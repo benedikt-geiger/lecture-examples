{
 "cells": [
  {
   "cell_type": "markdown",
   "metadata": {
    "pycharm": {}
   },
   "source": [
    "#  BPSK Demodulation in Nonlinear Channels with Deep Neural Networks\n",
    "\n",
    "This code is provided as supplementary material of the lecture Machine Learning and Optimization in Communications (MLOC).<br>\n",
    "\n",
    "This code illustrates:\n",
    "* demodulation of BPSK symbols in highly nonlinear channels using an artificial neural network, implemented via PyTorch"
   ]
  },
  {
   "cell_type": "code",
   "execution_count": 1,
   "metadata": {
    "pycharm": {}
   },
   "outputs": [
    {
     "name": "stdout",
     "output_type": "stream",
     "text": [
      "We are using the following device for learning: cuda\n"
     ]
    }
   ],
   "source": [
    "import torch\n",
    "import torch.nn as nn\n",
    "import torch.optim as optim\n",
    "import numpy as np\n",
    "import matplotlib.pyplot as plt\n",
    "import matplotlib\n",
    "from ipywidgets import interactive\n",
    "import ipywidgets as widgets\n",
    "import shutil\n",
    "import copy\n",
    "import os\n",
    "from tqdm.auto import tqdm\n",
    "%matplotlib inline \n",
    "\n",
    "\n",
    "font = {'size'   : 14}\n",
    "plt.rc('font', **font)\n",
    "plt.rc('text', usetex=True if shutil.which('latex') else False)\n",
    "\n",
    "\n",
    "device = 'cuda' if torch.cuda.is_available() else 'cpu'\n",
    "print(\"We are using the following device for learning:\",device)\n",
    "\n",
    "if device == 'cpu':\n",
    "    cpus = os.cpu_count()\n",
    "    torch.set_num_threads(cpus)\n",
    "    print(\"Using %d threads on CPU\" % cpus);"
   ]
  },
  {
   "cell_type": "markdown",
   "metadata": {},
   "source": [
    "Specify the parameters of the transmission as the fiber length $L$ (in km), the fiber nonlinearity coefficienty $\\gamma$ (given in 1/W/km) and the total noise power $P_n$ (given in dBM. The noise is due to amplified spontaneous emission in amplifiers along the link). We assume a model of a dispersion-less fiber affected by nonlinearity. The model, which is described for instance in [1] is given by an iterative application of the equation\n",
    "$$\n",
    "x_{k+1} = x_k\\exp\\left(\\jmath\\frac{L}{K}\\gamma|x_k|^2\\right) + n_{k+1},\\qquad 0 \\leq k < K\n",
    "$$\n",
    "where $x_0$ is the channel input (the modulated, complex symbols) and $x_K$ is the channel output. $K$ denotes the number of steps taken to simulate the channel Usually $K=50$ gives a good approximation.\n",
    "\n",
    "[1] S. Li, C. Häger, N. Garcia, and H. Wymeersch, \"Achievable Information Rates for Nonlinear Fiber Communication via End-to-end Autoencoder Learning,\" Proc. ECOC, Rome, Sep. 2018"
   ]
  },
  {
   "cell_type": "code",
   "execution_count": 2,
   "metadata": {},
   "outputs": [],
   "source": [
    "# Length of transmission (in km)\n",
    "L = 5000\n",
    "\n",
    "# fiber nonlinearity coefficient\n",
    "gamma = 1.27\n",
    "\n",
    "Pn = -21.3 # noise power (in dBm)\n",
    "\n",
    "Kstep = 50 # number of steps used in the channel model\n",
    "\n",
    "def simulate_channel(x, Pin):  \n",
    "    # modulate bpsk\n",
    "    input_power_linear = 10**((Pin-30)/10)\n",
    "    norm_factor = np.sqrt(input_power_linear);\n",
    "    bpsk = (1 - 2*x) * norm_factor\n",
    "\n",
    "    # noise variance per step    \n",
    "    sigma = np.sqrt((10**((Pn-30)/10)) / Kstep / 2)    \n",
    "\n",
    "    temp = np.array(bpsk, copy=True)\n",
    "    for i in range(Kstep):\n",
    "        power = np.absolute(temp)**2\n",
    "        rotcoff = (L / Kstep) * gamma * power\n",
    "        temp = temp * np.exp(1j*rotcoff) + sigma*(np.random.randn(len(x)) + 1j*np.random.randn(len(x)))\n",
    "    return temp"
   ]
  },
  {
   "cell_type": "markdown",
   "metadata": {},
   "source": [
    "We consider BPSK transmission over this channel.\n",
    "\n",
    "Show constellation as a function of the fiber input power. When the input power is small, the effect of the nonlinearity is small (as $\\jmath\\frac{L}{K}\\gamma|x_k|^2 \\approx 0$) and the transmission is dominated by the additive noise. If the input power becomes larger, the effect of the noise (the noise power is constant) becomes less pronounced, but the constellation rotates due to the larger input power and hence effect of the nonlinearity."
   ]
  },
  {
   "cell_type": "code",
   "execution_count": 5,
   "metadata": {},
   "outputs": [
    {
     "data": {
      "application/vnd.jupyter.widget-view+json": {
       "model_id": "4b979cef040144d88ff1258c0bad41f1",
       "version_major": 2,
       "version_minor": 0
      },
      "text/plain": [
       "interactive(children=(FloatSlider(value=1.0, continuous_update=False, description='Input Power Pin (dBm)', lay…"
      ]
     },
     "execution_count": 5,
     "metadata": {},
     "output_type": "execute_result"
    }
   ],
   "source": [
    "length = 5000\n",
    "\n",
    "def plot_constellation(Pin):\n",
    "    t = np.random.randint(2,size=length)\n",
    "    r = simulate_channel(t, Pin)\n",
    "\n",
    "    plt.figure(figsize=(6,6))\n",
    "    plt.scatter(np.real(r), np.imag(r), c=t, cmap='coolwarm')\n",
    "    plt.xlabel(r'$\\Re\\{r\\}$',fontsize=14)\n",
    "    plt.ylabel(r'$\\Im\\{r\\}$',fontsize=14)\n",
    "    plt.axis('equal')\n",
    "    plt.title(r'Received constellation (L = %d km, $P_{\\textrm{in}} = %1.2f$\\,dBm)' % (L, Pin))    \n",
    "    #plt.savefig('bpsk_received_zd_%1.2f.pdf' % Pin,bbox_inches='tight')\n",
    "    \n",
    "interactive_update = interactive(plot_constellation, Pin = widgets.FloatSlider(min=-10.0,max=10.0,step=0.1,value=1, continuous_update=False, description='Input Power Pin (dBm)', style={'description_width': 'initial'}, layout=widgets.Layout(width='50%')))\n",
    "\n",
    "\n",
    "output = interactive_update.children[-1]\n",
    "output.layout.height = '600px'\n",
    "interactive_update"
   ]
  },
  {
   "cell_type": "markdown",
   "metadata": {},
   "source": [
    "Helper function to plot the constellation together with the decision region. Note that a bit is decided as \"1\" if $\\sigma(\\boldsymbol{\\theta}^\\mathrm{T}\\boldsymbol{r}) > \\frac12$, i.e., if $\\boldsymbol{\\theta}^\\mathrm{T}\\boldsymbol{r}$ > 0. The decision line is therefore given by $\\theta_1\\Re\\{r\\} + \\theta_2\\Im\\{r\\} = 0$, i.e., $\\Im\\{r\\} = -\\frac{\\theta_1}{\\theta_2}\\Re\\{r\\}$"
   ]
  },
  {
   "cell_type": "markdown",
   "metadata": {},
   "source": [
    "Generate training, validation and testing data sets"
   ]
  },
  {
   "cell_type": "code",
   "execution_count": 6,
   "metadata": {},
   "outputs": [],
   "source": [
    "# helper function to compute the bit error rate\n",
    "def BER(predictions, labels):\n",
    "    decision = predictions >= 0.5\n",
    "    temp = decision != (labels != 0)\n",
    "    return np.mean(temp)"
   ]
  },
  {
   "cell_type": "code",
   "execution_count": 7,
   "metadata": {
    "pycharm": {}
   },
   "outputs": [],
   "source": [
    "# set input power\n",
    "Pin = 3\n",
    "\n",
    "# validation set. Training examples are generated on the fly\n",
    "N_valid = 100000\n",
    "\n",
    "\n",
    "hidden_neurons_1 = 8\n",
    "hidden_neurons_2 = 14\n",
    "\n",
    "\n",
    "y_valid = np.random.randint(2,size=N_valid)\n",
    "r = simulate_channel(y_valid, Pin)\n",
    "\n",
    "# find extension of data (for normalization and plotting)\n",
    "ext_x = max(abs(np.real(r)))\n",
    "ext_y = max(abs(np.imag(r)))\n",
    "ext_max = max(ext_x,ext_y)*1.2\n",
    "\n",
    "# scale data to be between 0 and 1\n",
    "X_valid = torch.from_numpy(np.column_stack((np.real(r), np.imag(r))) / ext_max).float().to(device)\n",
    "\n",
    "\n",
    "# meshgrid for plotting\n",
    "mgx,mgy = np.meshgrid(np.linspace(-ext_max,ext_max,200), np.linspace(-ext_max,ext_max,200))\n",
    "meshgrid = torch.from_numpy(np.column_stack((np.reshape(mgx,(-1,1)),np.reshape(mgy,(-1,1)))) / ext_max).float().to(device)"
   ]
  },
  {
   "cell_type": "code",
   "execution_count": 8,
   "metadata": {},
   "outputs": [],
   "source": [
    "class Receiver_Network(nn.Module):\n",
    "    def __init__(self, hidden1_neurons, hidden2_neurons):\n",
    "        super(Receiver_Network, self).__init__()\n",
    "        # Linear function, 2 input neurons (real and imaginary part)        \n",
    "        self.fc1 = nn.Linear(2, hidden1_neurons) \n",
    "\n",
    "        # Non-linearity\n",
    "        self.activation_function = nn.ELU()\n",
    "       \n",
    "        # Linear function (hidden layer)\n",
    "        self.fc2 = nn.Linear(hidden1_neurons, hidden2_neurons)  \n",
    "        \n",
    "        # Output function \n",
    "        self.fc3 = nn.Linear(hidden2_neurons, 1)\n",
    "        \n",
    "\n",
    "    def forward(self, x):\n",
    "        # Linear function, first layer\n",
    "        out = self.fc1(x)\n",
    "\n",
    "        # Non-linearity, first layer\n",
    "        out = self.activation_function(out)\n",
    "        \n",
    "        # Linear function, second layer\n",
    "        out = self.fc2(out)\n",
    "        \n",
    "        # Non-linearity, second layer\n",
    "        out = self.activation_function(out)\n",
    "        \n",
    "        # Linear function, third layer\n",
    "        out = self.fc3(out)\n",
    "              \n",
    "        return out"
   ]
  },
  {
   "cell_type": "code",
   "execution_count": 9,
   "metadata": {},
   "outputs": [
    {
     "data": {
      "application/vnd.jupyter.widget-view+json": {
       "model_id": "6b0e4b4e76564844831261e3bbe026c5",
       "version_major": 2,
       "version_minor": 0
      },
      "text/plain": [
       "  0%|          | 0/120 [00:00<?, ?it/s]"
      ]
     },
     "metadata": {},
     "output_type": "display_data"
    },
    {
     "name": "stdout",
     "output_type": "stream",
     "text": [
      "Validation BER after epoch 0: 0.012350 (loss 0.08372744) ... SAVING\n",
      "Validation BER after epoch 1: 0.011700 (loss 0.02783259) ... SAVING\n",
      "Validation BER after epoch 2: 0.011640 (loss 0.05135452) ... SAVING\n",
      "Validation BER after epoch 3: 0.011760 (loss 0.03418036)\n",
      "Validation BER after epoch 4: 0.011710 (loss 0.04556915)\n",
      "Validation BER after epoch 5: 0.011710 (loss 0.03455766)\n",
      "Validation BER after epoch 6: 0.011640 (loss 0.01889080)\n",
      "Validation BER after epoch 7: 0.011670 (loss 0.02927844)\n",
      "Validation BER after epoch 8: 0.011610 (loss 0.03106075) ... SAVING\n",
      "Validation BER after epoch 9: 0.011620 (loss 0.04820454)\n",
      "Validation BER after epoch 10: 0.011660 (loss 0.02558724)\n",
      "Validation BER after epoch 11: 0.011620 (loss 0.02846385)\n",
      "Validation BER after epoch 12: 0.011610 (loss 0.03385536)\n",
      "Validation BER after epoch 13: 0.011620 (loss 0.02311772)\n",
      "Validation BER after epoch 14: 0.011630 (loss 0.03130098)\n",
      "Validation BER after epoch 15: 0.011500 (loss 0.02762041) ... SAVING\n",
      "Validation BER after epoch 16: 0.011590 (loss 0.03843390)\n",
      "Validation BER after epoch 17: 0.011640 (loss 0.03463066)\n",
      "Validation BER after epoch 18: 0.011560 (loss 0.03154816)\n",
      "Validation BER after epoch 19: 0.011480 (loss 0.03931498) ... SAVING\n",
      "Validation BER after epoch 20: 0.011470 (loss 0.02245738) ... SAVING\n",
      "Validation BER after epoch 21: 0.011360 (loss 0.02536876) ... SAVING\n",
      "Validation BER after epoch 22: 0.011310 (loss 0.03084989) ... SAVING\n",
      "Validation BER after epoch 23: 0.011200 (loss 0.03254855) ... SAVING\n",
      "Validation BER after epoch 24: 0.011120 (loss 0.03192643) ... SAVING\n",
      "Validation BER after epoch 25: 0.010750 (loss 0.02313628) ... SAVING\n",
      "Validation BER after epoch 26: 0.010470 (loss 0.03646895) ... SAVING\n",
      "Validation BER after epoch 27: 0.009870 (loss 0.02595586) ... SAVING\n",
      "Validation BER after epoch 28: 0.009150 (loss 0.02966692) ... SAVING\n",
      "Validation BER after epoch 29: 0.007770 (loss 0.02398840) ... SAVING\n",
      "Validation BER after epoch 30: 0.006350 (loss 0.01999602) ... SAVING\n",
      "Validation BER after epoch 31: 0.004980 (loss 0.01946509) ... SAVING\n",
      "Validation BER after epoch 32: 0.003810 (loss 0.01325486) ... SAVING\n",
      "Validation BER after epoch 33: 0.002880 (loss 0.01800585) ... SAVING\n",
      "Validation BER after epoch 34: 0.001950 (loss 0.00893385) ... SAVING\n",
      "Validation BER after epoch 35: 0.001620 (loss 0.01020126) ... SAVING\n",
      "Validation BER after epoch 36: 0.001340 (loss 0.00492122) ... SAVING\n",
      "Validation BER after epoch 37: 0.001050 (loss 0.00724393) ... SAVING\n",
      "Validation BER after epoch 38: 0.001020 (loss 0.00616623) ... SAVING\n",
      "Validation BER after epoch 39: 0.000880 (loss 0.00580304) ... SAVING\n",
      "Validation BER after epoch 40: 0.000820 (loss 0.00297257) ... SAVING\n",
      "Validation BER after epoch 41: 0.000740 (loss 0.00402031) ... SAVING\n",
      "Validation BER after epoch 42: 0.000720 (loss 0.00235063) ... SAVING\n",
      "Validation BER after epoch 43: 0.000640 (loss 0.00374275) ... SAVING\n",
      "Validation BER after epoch 44: 0.000580 (loss 0.00348393) ... SAVING\n",
      "Validation BER after epoch 45: 0.000540 (loss 0.00137625) ... SAVING\n",
      "Validation BER after epoch 46: 0.000480 (loss 0.00788289) ... SAVING\n",
      "Validation BER after epoch 47: 0.000450 (loss 0.00140157) ... SAVING\n",
      "Validation BER after epoch 48: 0.000430 (loss 0.00721802) ... SAVING\n",
      "Validation BER after epoch 49: 0.000380 (loss 0.00102562) ... SAVING\n",
      "Validation BER after epoch 50: 0.000350 (loss 0.00475708) ... SAVING\n",
      "Validation BER after epoch 51: 0.000290 (loss 0.00093533) ... SAVING\n",
      "Validation BER after epoch 52: 0.000260 (loss 0.00172126) ... SAVING\n",
      "Validation BER after epoch 53: 0.000220 (loss 0.00078219) ... SAVING\n",
      "Validation BER after epoch 54: 0.000210 (loss 0.00125356) ... SAVING\n",
      "Validation BER after epoch 55: 0.000170 (loss 0.00076701) ... SAVING\n",
      "Validation BER after epoch 56: 0.000170 (loss 0.00053001)\n",
      "Validation BER after epoch 57: 0.000120 (loss 0.00267007) ... SAVING\n",
      "Validation BER after epoch 58: 0.000120 (loss 0.00031967)\n",
      "Validation BER after epoch 59: 0.000100 (loss 0.00044752) ... SAVING\n",
      "Validation BER after epoch 60: 0.000090 (loss 0.00024993) ... SAVING\n",
      "Validation BER after epoch 61: 0.000090 (loss 0.00025813)\n",
      "Validation BER after epoch 62: 0.000110 (loss 0.00048872)\n",
      "Validation BER after epoch 63: 0.000070 (loss 0.00019710) ... SAVING\n",
      "Validation BER after epoch 64: 0.000080 (loss 0.00033119)\n",
      "Validation BER after epoch 65: 0.000070 (loss 0.00024116)\n",
      "Validation BER after epoch 66: 0.000050 (loss 0.00014959) ... SAVING\n",
      "Validation BER after epoch 67: 0.000040 (loss 0.00015653) ... SAVING\n",
      "Validation BER after epoch 68: 0.000030 (loss 0.00023976) ... SAVING\n",
      "Validation BER after epoch 69: 0.000020 (loss 0.00013592) ... SAVING\n",
      "Validation BER after epoch 70: 0.000020 (loss 0.00009506)\n",
      "Validation BER after epoch 71: 0.000020 (loss 0.00009936)\n",
      "Validation BER after epoch 72: 0.000020 (loss 0.00035235)\n",
      "Validation BER after epoch 73: 0.000020 (loss 0.00008400)\n",
      "Validation BER after epoch 74: 0.000020 (loss 0.00009576)\n",
      "Validation BER after epoch 75: 0.000020 (loss 0.00009742)\n",
      "Validation BER after epoch 76: 0.000020 (loss 0.00010141)\n",
      "Validation BER after epoch 77: 0.000020 (loss 0.00006224)\n",
      "Validation BER after epoch 78: 0.000020 (loss 0.00012626)\n",
      "Validation BER after epoch 79: 0.000010 (loss 0.00014919) ... SAVING\n",
      "Validation BER after epoch 80: 0.000010 (loss 0.00005366)\n",
      "Validation BER after epoch 81: 0.000000 (loss 0.00053499) ... SAVING\n",
      "Validation BER after epoch 82: 0.000000 (loss 0.00004429)\n",
      "Validation BER after epoch 83: 0.000010 (loss 0.00003072)\n",
      "Validation BER after epoch 84: 0.000000 (loss 0.00006472)\n",
      "Validation BER after epoch 85: 0.000000 (loss 0.00009241)\n",
      "Validation BER after epoch 86: 0.000000 (loss 0.00006398)\n",
      "Validation BER after epoch 87: 0.000000 (loss 0.00012650)\n",
      "Validation BER after epoch 88: 0.000000 (loss 0.00004612)\n",
      "Validation BER after epoch 89: 0.000000 (loss 0.00002821)\n",
      "Validation BER after epoch 90: 0.000000 (loss 0.00095252)\n",
      "Validation BER after epoch 91: 0.000000 (loss 0.00002350)\n",
      "Validation BER after epoch 92: 0.000000 (loss 0.00045995)\n",
      "Validation BER after epoch 93: 0.000000 (loss 0.00002081)\n",
      "Validation BER after epoch 94: 0.000000 (loss 0.00002603)\n",
      "Validation BER after epoch 95: 0.000000 (loss 0.00002823)\n",
      "Validation BER after epoch 96: 0.000000 (loss 0.00008490)\n",
      "Validation BER after epoch 97: 0.000000 (loss 0.00001398)\n",
      "Validation BER after epoch 98: 0.000000 (loss 0.00002754)\n",
      "Validation BER after epoch 99: 0.000000 (loss 0.00004733)\n",
      "Validation BER after epoch 100: 0.000000 (loss 0.00005881)\n",
      "Validation BER after epoch 101: 0.000000 (loss 0.00003564)\n",
      "Validation BER after epoch 102: 0.000000 (loss 0.00002030)\n",
      "Validation BER after epoch 103: 0.000000 (loss 0.00004678)\n",
      "Validation BER after epoch 104: 0.000000 (loss 0.00003688)\n",
      "Validation BER after epoch 105: 0.000000 (loss 0.00003810)\n",
      "Validation BER after epoch 106: 0.000000 (loss 0.00004909)\n",
      "Validation BER after epoch 107: 0.000000 (loss 0.00006984)\n",
      "Validation BER after epoch 108: 0.000000 (loss 0.00002169)\n",
      "Validation BER after epoch 109: 0.000000 (loss 0.00001486)\n",
      "Validation BER after epoch 110: 0.000000 (loss 0.00001549)\n",
      "Validation BER after epoch 111: 0.000000 (loss 0.00001886)\n",
      "Validation BER after epoch 112: 0.000000 (loss 0.00006621)\n",
      "Validation BER after epoch 113: 0.000000 (loss 0.00005387)\n",
      "Validation BER after epoch 114: 0.000000 (loss 0.00002585)\n",
      "Validation BER after epoch 115: 0.000000 (loss 0.00008666)\n",
      "Validation BER after epoch 116: 0.000000 (loss 0.00001441)\n",
      "Validation BER after epoch 117: 0.000000 (loss 0.00001536)\n",
      "Validation BER after epoch 118: 0.000000 (loss 0.00001957)\n",
      "Validation BER after epoch 119: 0.000000 (loss 0.00004596)\n"
     ]
    }
   ],
   "source": [
    "model = Receiver_Network(hidden_neurons_1, hidden_neurons_2)\n",
    "model.to(device)\n",
    "\n",
    "sigmoid = nn.Sigmoid()\n",
    "\n",
    "\n",
    "# channel parameters\n",
    "norm_factor = np.sqrt(10**((Pin-30)/10));\n",
    "sigma = np.sqrt((10**((Pn-30)/10)) / Kstep / 2)\n",
    "\n",
    "# Binary Cross Entropy loss\n",
    "loss_fn = nn.BCEWithLogitsLoss()\n",
    "\n",
    "# Adam Optimizer\n",
    "optimizer = optim.Adam(model.parameters())  \n",
    "\n",
    "\n",
    "# Training parameters\n",
    "num_epochs = 120\n",
    "batches_per_epoch = 300\n",
    "\n",
    "# Vary batch size during training\n",
    "batch_size_per_epoch = np.linspace(100,10000,num=num_epochs)\n",
    "\n",
    "\n",
    "validation_BERs = np.zeros(num_epochs)\n",
    "decision_region_evolution = []\n",
    "\n",
    "best_BER = 9e9\n",
    "best_epoch = 0\n",
    "\n",
    "for epoch in tqdm(range(num_epochs)):\n",
    "    batch_labels = torch.empty(int(batch_size_per_epoch[epoch]), device=device)\n",
    "    noise = torch.empty((int(batch_size_per_epoch[epoch]),2), device=device, requires_grad=False)        \n",
    "\n",
    "    for step in range(batches_per_epoch):\n",
    "        # sample new mini-batch directory on the GPU (if available)        \n",
    "        batch_labels.random_(2)\n",
    "        # channel simulation directly on the GPU\n",
    "        bpsk = ((1 - 2*batch_labels) * norm_factor).unsqueeze(-1) * torch.tensor([1.0,0.0],device=device)\n",
    "\n",
    "        for i in range(Kstep):\n",
    "            power = torch.norm(bpsk, dim=1) ** 2\n",
    "            rotcoff = (L / Kstep) * gamma * power\n",
    "            noise.normal_(mean=0, std=sigma) # sample noise\n",
    "            \n",
    "            # phase rotation due to nonlinearity\n",
    "            temp1 = bpsk[:,0] * torch.cos(rotcoff) - bpsk[:,1] * torch.sin(rotcoff)            \n",
    "            temp2 = bpsk[:,0] * torch.sin(rotcoff) + bpsk[:,1] * torch.cos(rotcoff)            \n",
    "            bpsk = torch.stack([temp1, temp2], dim=1) + noise\n",
    "\n",
    "        bpsk = bpsk / ext_max\n",
    "        outputs = model(bpsk)\n",
    "\n",
    "        # compute loss\n",
    "        loss = loss_fn(outputs.squeeze(), batch_labels)\n",
    "        \n",
    "        # compute gradients\n",
    "        loss.backward()\n",
    "        \n",
    "        optimizer.step()\n",
    "        # reset gradients\n",
    "        optimizer.zero_grad()\n",
    "        \n",
    "    # compute validation BER\n",
    "    out_valid = sigmoid(model(X_valid))\n",
    "    validation_BERs[epoch] = BER(out_valid.detach().cpu().numpy().squeeze(), y_valid)\n",
    "\n",
    "    # check if we are better than before. Only save best model\n",
    "    if validation_BERs[epoch] < best_BER:\n",
    "        # save model\n",
    "        best_model_state_dict = copy.deepcopy(model.state_dict())\n",
    "        best_BER = validation_BERs[epoch]\n",
    "        best_epoch = epoch\n",
    "        print('Validation BER after epoch %d: %f (loss %1.8f) ... SAVING' % (epoch, validation_BERs[epoch], loss.detach().cpu().numpy()))                \n",
    "    else:\n",
    "        print('Validation BER after epoch %d: %f (loss %1.8f)' % (epoch, validation_BERs[epoch], loss.detach().cpu().numpy()))                \n",
    "        \n",
    "    # store decision region for generating the animation\n",
    "    mesh_prediction = sigmoid(model(meshgrid))    \n",
    "    decision_region_evolution.append(0.195*mesh_prediction.detach().cpu().numpy() + 0.4)\n"
   ]
  },
  {
   "cell_type": "code",
   "execution_count": 11,
   "metadata": {},
   "outputs": [
    {
     "name": "stdout",
     "output_type": "stream",
     "text": [
      "3\n"
     ]
    },
    {
     "data": {
      "text/plain": [
       "Text(0, 0.5, '$\\\\Im\\\\{r\\\\}$')"
      ]
     },
     "execution_count": 11,
     "metadata": {},
     "output_type": "execute_result"
    },
    {
     "data": {
      "image/png": "[encoded data removed]",
      "text/plain": [
       "<Figure size 800x800 with 1 Axes>"
      ]
     },
     "metadata": {},
     "output_type": "display_data"
    }
   ],
   "source": [
    "model.load_state_dict(best_model_state_dict)\n",
    "out_valid = sigmoid(model(X_valid))\n",
    "mesh_prediction = sigmoid(model(meshgrid))\n",
    "decision_region_plot = 0.195*mesh_prediction.detach().cpu().numpy() + 0.4\n",
    "\n",
    "plt.figure(figsize=(8,8))\n",
    "plt.contourf(mgx,mgy,decision_region_plot.reshape(mgy.shape),cmap='coolwarm',vmin=0.3,vmax=0.695)\n",
    "plt.scatter(X_valid[:,0].cpu()*ext_max, X_valid[:,1].cpu() * ext_max, c=y_valid, cmap='coolwarm')\n",
    "print(Pin)\n",
    "plt.axis('scaled')\n",
    "plt.xlabel(r'$\\Re\\{r\\}$',fontsize=16)\n",
    "plt.ylabel(r'$\\Im\\{r\\}$',fontsize=16)\n",
    "#plt.title(title,fontsize=16)\n",
    "#plt.savefig('after_optimization.pdf',bbox_inches='tight')"
   ]
  }
 ],
 "metadata": {
  "kernelspec": {
   "display_name": "Python 3 (ipykernel)",
   "language": "python",
   "name": "python3"
  },
  "language_info": {
   "codemirror_mode": {
    "name": "ipython",
    "version": 3
   },
   "file_extension": ".py",
   "mimetype": "text/x-python",
   "name": "python",
   "nbconvert_exporter": "python",
   "pygments_lexer": "ipython3",
   "version": "3.12.2"
  }
 },
 "nbformat": 4,
 "nbformat_minor": 4
}
