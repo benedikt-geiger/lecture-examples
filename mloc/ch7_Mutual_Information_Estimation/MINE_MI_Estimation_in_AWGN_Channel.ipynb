{
 "cells": [
  {
   "cell_type": "markdown",
   "metadata": {
    "pycharm": {}
   },
   "source": [
    "# MINE Mutual Information Estimation in Zero-Dispersion Optical Channel \n",
    "\n",
    "This code is provided as supplementary material of the lecture Machine Learning and Optimization in Communications (MLOC).<br>\n",
    "\n",
    "This code illustrates\n",
    "* Using the MINE mutual information estimator to compute the achievable information rate (AIR) of the channel"
   ]
  },
  {
   "cell_type": "code",
   "execution_count": 13,
   "metadata": {
    "pycharm": {}
   },
   "outputs": [
    {
     "name": "stdout",
     "output_type": "stream",
     "text": [
      "We are using the following device for learning: cuda\n"
     ]
    }
   ],
   "source": [
    "import torch\n",
    "import torch.nn as nn\n",
    "import torch.optim as optim\n",
    "import numpy as np\n",
    "\n",
    "import matplotlib.pyplot as plt\n",
    "from ipywidgets import IntProgress\n",
    "from IPython.display import display\n",
    "\n",
    "%matplotlib inline \n",
    "\n",
    "device = 'cuda' if torch.cuda.is_available() else 'cpu'\n",
    "print(\"We are using the following device for learning:\",device)"
   ]
  },
  {
   "cell_type": "markdown",
   "metadata": {},
   "source": [
    "Simple real-valued AWGN channel, with channel output $r_i = t_i + n_i$ where $\\mathsf{n} \\sim \\mathcal{N}(0,\\sqrt{N_0/(2E_{\\mathrm{s}})})$. Note that we define $E_{\\mathrm{s}}/N_0$ as if we had a complex-valued channel of which we only use the real-part."
   ]
  },
  {
   "cell_type": "code",
   "execution_count": 7,
   "metadata": {},
   "outputs": [],
   "source": [
    "def simulate_channel(x, EsN0):      \n",
    "    EsN0_lin = 10**(EsN0/10.0)\n",
    "    sigma = np.sqrt(1.0/2.0/EsN0_lin)\n",
    "    \n",
    "    y = x + sigma * np.random.randn(len(x))\n",
    "    \n",
    "    return x,y"
   ]
  },
  {
   "cell_type": "markdown",
   "metadata": {},
   "source": [
    "The MINE estimator [1] uses the Donsker-Varadhan variational represention of the mutual information, which is given by\n",
    "$$\n",
    "I(\\mathsf{t};\\mathsf{r}) = \\sup_{f:\\mathcal{T}\\times\\mathcal{R}\\to\\mathbb{R}}\\mathbb{E}_{\\mathsf{t},\\mathsf{r}\\sim p(\\mathsf{t},\\mathsf{r})}\\{f(\\mathsf{t},\\mathsf{r})\\} - \\log\\left(\\mathbb{E}_{\\mathsf{t},\\mathsf{r}\\sim p(\\mathsf{t})p(\\mathsf{r})}\\left\\{\\mathrm{e}^{f(\\mathsf{t},\\mathsf{r})}\\right\\}\\right)\n",
    "$$\n",
    "where $f:\\mathcal{T}\\times\\mathcal{R}\\to\\mathbb{R}$ is any function that maps input and output of the channel to a scalar value. The maximization (\"$\\sup$\") needs to be carried out over all such functions. In this example, we use a neural network to approximate this variational function. The neural network is implemented in the next block and consists of two hidden layers with ELU activation function. We need to make sure that the function is numerically stable and therefore use an initializer for the initial weights with very small variance.\n",
    "\n",
    "[1] M. Belghazi, A. Baratin, S. Rajeswar, S. Ozair, Y. Bengio, A. Courville, and R. D. Hjelm, \"MINE: Mutual information\n",
    "neural estimation,\" __Proc. ICML__, preprint available at \\url{https://arxiv.org/abs/1801.04062}, 2018"
   ]
  },
  {
   "cell_type": "code",
   "execution_count": 10,
   "metadata": {},
   "outputs": [],
   "source": [
    "class Variational_Function(nn.Module):\n",
    "    def __init__(self, hidden_neurons_1, hidden_neurons_2):\n",
    "        super(Variational_Function, self).__init__()\n",
    "        \n",
    "        # Linear function, 2 input neurons (channel input and channel output)\n",
    "        self.fc1 = nn.Linear(2, hidden_neurons_1) \n",
    "\n",
    "        # Non-linearity\n",
    "        self.activation_function = nn.ELU()           \n",
    "    \n",
    "        # Linear function (hidden layer)\n",
    "        self.fc2 = nn.Linear(hidden_neurons_1, hidden_neurons_2)  \n",
    "\n",
    "        # Output layer generating a scalar\n",
    "        self.fc3 = nn.Linear(hidden_neurons_2, 1)\n",
    "                \n",
    "        # initialize weights of layers\n",
    "        nn.init.normal_(self.fc1.weight, std=0.02)\n",
    "        nn.init.constant_(self.fc1.bias, 0)\n",
    "        nn.init.normal_(self.fc2.weight, std=0.02)\n",
    "        nn.init.constant_(self.fc2.bias, 0)\n",
    "        nn.init.normal_(self.fc3.weight, std=0.02)\n",
    "        nn.init.constant_(self.fc3.bias, 0)\n",
    "        \n",
    "    def forward(self, x):\n",
    "        # Linear function, first layer\n",
    "        out = self.fc1(x)\n",
    "\n",
    "        # Non-linearity, first layer\n",
    "        out = self.activation_function(out)\n",
    "        \n",
    "        # Linear function, second layer\n",
    "        out = self.fc2(out)\n",
    "        \n",
    "        # Non-linearity, second layer\n",
    "        out = self.activation_function(out)                \n",
    "        \n",
    "        # Linear function, output layer\n",
    "        out = self.fc3(out)\n",
    "\n",
    "        return out"
   ]
  },
  {
   "cell_type": "markdown",
   "metadata": {},
   "source": [
    "Carry out the final optimization. We use the Adam algorithm with small learning rate and use a modification of the cost function, which leads to a more stable estimator.\n",
    "\n",
    "Let $J(\\boldsymbol{t}, \\boldsymbol{r}, \\boldsymbol{\\theta})$ be the loss function. Then we exploit the fact that with\n",
    "$$\n",
    "J(\\boldsymbol{t}, \\boldsymbol{r}, \\boldsymbol{\\theta}) := \\mathbb{E}_{\\mathsf{t},\\mathsf{r}\\sim p(\\mathsf{t},\\mathsf{r})}\\{f(\\mathsf{t},\\mathsf{r})\\} - \\log\\left(\\mathbb{E}_{\\mathsf{t},\\mathsf{r}\\sim p(\\mathsf{t})p(\\mathsf{r})}\\left\\{\\mathrm{e}^{f(\\mathsf{t},\\mathsf{r})}\\right\\}\\right)\n",
    "$$ we have\n",
    "\\begin{align*}\n",
    "\\nabla_{\\boldsymbol{\\theta}}J(\\boldsymbol{t}, \\boldsymbol{r}, \\boldsymbol{\\theta}) &= \\nabla_{\\boldsymbol{\\theta}}\\mathbb{E}_{\\mathsf{t},\\mathsf{r}\\sim p(\\mathsf{t},\\mathsf{r})}\\{f(\\mathsf{t},\\mathsf{r})\\} - \\frac{\\nabla_{\\boldsymbol{\\theta}}\\mathbb{E}_{\\mathsf{t},\\mathsf{r}\\sim p(\\mathsf{t})p(\\mathsf{r})}\\left\\{\\mathrm{e}^{f(\\mathsf{t},\\mathsf{r})}\\right\\}}{\\mathbb{E}_{\\mathsf{t},\\mathsf{r}\\sim p(\\mathsf{t})p(\\mathsf{r})}\\left\\{\\mathrm{e}^{f(\\mathsf{t},\\mathsf{r})}\\right\\}}\n",
    "\\end{align*}\n",
    "Applying stochastic gradient descent over the batch with $N$ examples yields\n",
    "\\begin{align*}\n",
    "\\nabla_{\\boldsymbol{\\theta}}J(\\boldsymbol{t}, \\boldsymbol{r}, \\boldsymbol{\\theta}) &\\approx \\frac{1}{N}\\sum_{i=1}^N\\nabla_{\\boldsymbol{\\theta}}f(t_i,r_i) - \\frac{\\frac{1}{N}\\sum_{i=1}^N\\nabla_{\\boldsymbol{\\theta}}\\mathrm{e}^{f(t_i,\\tilde{r}_i)}}{\\mathbb{E}_{\\mathsf{t},\\mathsf{r}\\sim p(\\mathsf{t})p(\\mathsf{r})}\\left\\{\\mathrm{e}^{f(\\mathsf{t},\\mathsf{r})}\\right\\}}\n",
    "\\end{align*}\n",
    "where $r_i$ is the result of transmitting $t_i$ over the channel and $\\tilde{r}_i$ is the result of transmitting $\\tilde{t}_i$ over the channel, where we discard the transmit sequence $\\tilde{t}_i$. This needs to be done to ensure that the expectation is taken over the product of marginal distributions ($\\mathbb{E}_{\\mathsf{t},\\mathsf{r}\\sim p(\\mathsf{t})p(\\mathsf{r})}\\{\\cdot\\}$). For details, see [1].\n",
    "\n",
    "In the denominator of the approximated gradient, we have the term $\\mathbb{E}_{\\mathsf{t},\\mathsf{r}\\sim p(\\mathsf{t})p(\\mathsf{r})}\\left\\{\\mathrm{e}^{f(\\mathsf{t},\\mathsf{r})}\\right\\}$. We estimate this term using a moving average over the mini-batches. We need to make sure that this term is not taken into account when calculating the gradient, which is done using the `.detach()` function. The original loss function is also available in the code below as a comment."
   ]
  },
  {
   "cell_type": "code",
   "execution_count": 11,
   "metadata": {},
   "outputs": [
    {
     "name": "stdout",
     "output_type": "stream",
     "text": [
      "Epoch 0: current MI estimate is 0.727 bit/channel use (reference: 0.792 bit/channel use)\n",
      "Epoch 1: current MI estimate is 0.735 bit/channel use (reference: 0.792 bit/channel use)\n",
      "Epoch 2: current MI estimate is 0.728 bit/channel use (reference: 0.792 bit/channel use)\n",
      "Epoch 3: current MI estimate is 0.736 bit/channel use (reference: 0.792 bit/channel use)\n",
      "Epoch 4: current MI estimate is 0.724 bit/channel use (reference: 0.792 bit/channel use)\n",
      "Epoch 5: current MI estimate is 0.735 bit/channel use (reference: 0.792 bit/channel use)\n",
      "Epoch 6: current MI estimate is 0.733 bit/channel use (reference: 0.792 bit/channel use)\n",
      "Epoch 7: current MI estimate is 0.774 bit/channel use (reference: 0.792 bit/channel use)\n",
      "Epoch 8: current MI estimate is 0.753 bit/channel use (reference: 0.792 bit/channel use)\n",
      "Epoch 9: current MI estimate is 0.733 bit/channel use (reference: 0.792 bit/channel use)\n",
      "Epoch 10: current MI estimate is 0.760 bit/channel use (reference: 0.792 bit/channel use)\n",
      "Epoch 11: current MI estimate is 0.753 bit/channel use (reference: 0.792 bit/channel use)\n",
      "Epoch 12: current MI estimate is 0.755 bit/channel use (reference: 0.792 bit/channel use)\n",
      "Epoch 13: current MI estimate is 0.744 bit/channel use (reference: 0.792 bit/channel use)\n",
      "Epoch 14: current MI estimate is 0.726 bit/channel use (reference: 0.792 bit/channel use)\n",
      "Epoch 15: current MI estimate is 0.735 bit/channel use (reference: 0.792 bit/channel use)\n",
      "Epoch 16: current MI estimate is 0.758 bit/channel use (reference: 0.792 bit/channel use)\n",
      "Epoch 17: current MI estimate is 0.753 bit/channel use (reference: 0.792 bit/channel use)\n",
      "Epoch 18: current MI estimate is 0.736 bit/channel use (reference: 0.792 bit/channel use)\n",
      "Epoch 19: current MI estimate is 0.726 bit/channel use (reference: 0.792 bit/channel use)\n"
     ]
    }
   ],
   "source": [
    "EsN0 = 0.0\n",
    "\n",
    "MI_reference = 0.5*np.log2(1 + 2 * 10.0**(EsN0/10.0))\n",
    "\n",
    "hidden_neurons_1 = 50\n",
    "hidden_neurons_2 = 30\n",
    "\n",
    "\n",
    "# Generate variational function\n",
    "model = Variational_Function(hidden_neurons_1, hidden_neurons_2)\n",
    "model.to(device)\n",
    "\n",
    "# Adam Optimizer\n",
    "optimizer = optim.Adam(model.parameters())  \n",
    "\n",
    "num_epochs = 20\n",
    "batches_per_epoch = 1000\n",
    "\n",
    "# increase batch size while learning from 100 up to 10000\n",
    "batch_size_per_epoch = np.linspace(400, 20000, num=num_epochs, dtype=int)\n",
    "\n",
    "ma_et = 0.0\n",
    "\n",
    "\n",
    "for epoch in range(num_epochs):\n",
    "    for step in range(batches_per_epoch):\n",
    "        \n",
    "        \n",
    "        t,r = simulate_channel(np.random.randn(batch_size_per_epoch[epoch]), EsN0)\n",
    "        _,rtilde = simulate_channel(np.random.randn(batch_size_per_epoch[epoch]), EsN0)\n",
    "        \n",
    "        model.train()\n",
    "                \n",
    "        # generate input to first call of the variational function\n",
    "        input_1 = np.vstack( (t, r) ).transpose()\n",
    "        torch_in1 = torch.from_numpy(input_1).float().to(device)\n",
    "        \n",
    "        # generate input to second call of the variational function\n",
    "        input_2 = np.vstack( (t, rtilde) ).transpose()\n",
    "        torch_in2 = torch.from_numpy(input_2).float().to(device)\n",
    "        \n",
    "        # apply the variational function\n",
    "        out_1 = model(torch_in1)\n",
    "        out_2 = model(torch_in2)\n",
    "        \n",
    "        \n",
    "        # loss function. Attenation, put a minus sign as we want to maximize\n",
    "        #oss = -torch.mean(out_1) + torch.log(torch.mean(torch.exp(out_2)))\n",
    "        \n",
    "        tmp = torch.exp(out_2)\n",
    "        ma_et = (1.0-0.05)*ma_et + 0.05*torch.mean(tmp.detach())        \n",
    "        loss = -torch.mean(out_1) + (1/ma_et.mean()).detach() * torch.mean(tmp)               \n",
    "                \n",
    "        # compute gradients\n",
    "        loss.backward() \n",
    "        \n",
    "        # carry out one optimization step with Adam\n",
    "        optimizer.step()\n",
    "        \n",
    "        # reset gradients to zero\n",
    "        optimizer.zero_grad()\n",
    "        \n",
    "    model.eval()\n",
    "    t,r = simulate_channel(np.random.randn(10000), EsN0)\n",
    "    _,rtilde = simulate_channel(np.random.randn(10000), EsN0)\n",
    "        \n",
    "        \n",
    "    # generate input to first call of the variational function\n",
    "    input_1 = np.vstack( (t,r) ).transpose()\n",
    "    torch_in1 = torch.from_numpy(input_1).float().to(device)\n",
    "        \n",
    "    # generate input to second call of the variational function\n",
    "    input_2 = np.vstack( (t,rtilde) ).transpose()\n",
    "    torch_in2 = torch.from_numpy(input_2).float().to(device)\n",
    "        \n",
    "    # apply the variational function\n",
    "    out_1 = model(torch_in1)\n",
    "    out_2 = model(torch_in2)\n",
    "        \n",
    "    # loss function. Attenation, put a minus sign as we want to maximize\n",
    "    MI_eval = torch.mean(out_1) - torch.log2(torch.mean(torch.pow(2.0, out_2)))\n",
    "    print('Epoch %d: current MI estimate is %1.3f bit/channel use (reference: %1.3f bit/channel use)' % (epoch, MI_eval.cpu().detach().numpy(), MI_reference) )\n",
    "\n",
    "\n"
   ]
  },
  {
   "cell_type": "markdown",
   "metadata": {},
   "source": [
    "Show the convergence of the training"
   ]
  },
  {
   "cell_type": "code",
   "execution_count": 29,
   "metadata": {},
   "outputs": [
    {
     "data": {
      "application/vnd.jupyter.widget-view+json": {
       "model_id": "9d611ec99b6d4d1089f47db1f9a6000c",
       "version_major": 2,
       "version_minor": 0
      },
      "text/plain": [
       "IntProgress(value=0, max=1000)"
      ]
     },
     "metadata": {},
     "output_type": "display_data"
    }
   ],
   "source": [
    "EsN0 = 5.0\n",
    "\n",
    "MI_reference = 0.5*np.log2(1 + 2 * 10.0**(EsN0/10.0))\n",
    "\n",
    "hidden_neurons_1 = 100\n",
    "hidden_neurons_2 = 100\n",
    "\n",
    "\n",
    "# Generate variational function\n",
    "model = Variational_Function(hidden_neurons_1, hidden_neurons_2)\n",
    "model.to(device)\n",
    "\n",
    "# Adam Optimizer\n",
    "optimizer = optim.Adam(model.parameters(), lr=0.0001)  \n",
    "\n",
    "num_epochs = 1000\n",
    "batches_per_epoch = 2\n",
    "\n",
    "# increase batch size while learning from 100 up to 10000\n",
    "batch_size_per_epoch = np.linspace(10000, 10000, num=num_epochs, dtype=int)\n",
    "\n",
    "ma_et = 0.0\n",
    "\n",
    "# Progress bar\n",
    "f = IntProgress(min=0, max=num_epochs) # instantiate the bar\n",
    "display(f) # display the bar\n",
    "\n",
    "MI_eval = np.zeros(num_epochs)\n",
    "for epoch in range(num_epochs):\n",
    "    for step in range(batches_per_epoch):\n",
    "        \n",
    "        \n",
    "        t,r = simulate_channel(np.random.randn(batch_size_per_epoch[epoch]), EsN0)\n",
    "        _,rtilde = simulate_channel(np.random.randn(batch_size_per_epoch[epoch]), EsN0)\n",
    "        \n",
    "        model.train()\n",
    "                \n",
    "        # generate input to first call of the variational function\n",
    "        input_1 = np.vstack( (t, r) ).transpose()\n",
    "        torch_in1 = torch.from_numpy(input_1).float().to(device)\n",
    "        \n",
    "        # generate input to second call of the variational function\n",
    "        input_2 = np.vstack( (t, rtilde) ).transpose()\n",
    "        torch_in2 = torch.from_numpy(input_2).float().to(device)\n",
    "        \n",
    "        # apply the variational function\n",
    "        out_1 = model(torch_in1)\n",
    "        out_2 = model(torch_in2)\n",
    "        \n",
    "        \n",
    "        # loss function. Attenation, put a minus sign as we want to maximize\n",
    "        #loss = -torch.mean(out_1) + torch.log(torch.mean(torch.exp(out_2)))\n",
    "        \n",
    "        tmp = torch.exp(out_2)\n",
    "        ma_et = (1.0-0.1)*ma_et + 0.1*torch.mean(tmp.detach())        \n",
    "        loss = -torch.mean(out_1) + (1/ma_et.mean()).detach() * torch.mean(tmp)               \n",
    "                \n",
    "        # compute gradients\n",
    "        loss.backward() \n",
    "        \n",
    "        # carry out one optimization step with Adam\n",
    "        optimizer.step()\n",
    "        \n",
    "        # reset gradients to zero\n",
    "        optimizer.zero_grad()\n",
    "        \n",
    "    model.eval()\n",
    "    t,r = simulate_channel(np.random.randn(10000), EsN0)\n",
    "    _,rtilde = simulate_channel(np.random.randn(10000), EsN0)\n",
    "        \n",
    "        \n",
    "    # generate input to first call of the variational function\n",
    "    input_1 = np.vstack( (t,r) ).transpose()\n",
    "    torch_in1 = torch.from_numpy(input_1).float().to(device)\n",
    "        \n",
    "    # generate input to second call of the variational function\n",
    "    input_2 = np.vstack( (t,rtilde) ).transpose()\n",
    "    torch_in2 = torch.from_numpy(input_2).float().to(device)\n",
    "        \n",
    "    # apply the variational function\n",
    "    out_1 = model(torch_in1)\n",
    "    out_2 = model(torch_in2)\n",
    "        \n",
    "    # loss function. Attenation, put a minus sign as we want to maximize\n",
    "    MI_eval[epoch] = (torch.mean(out_1) - torch.log2(torch.mean(torch.pow(2.0, out_2)))).cpu().detach().numpy()\n",
    "    f.value += 1\n",
    "    #print('Epoch %d: current MI estimate is %1.3f bit/channel use (reference: %1.3f bit/channel use)' % (epoch, MI_eval.cpu().detach().numpy(), MI_reference) )\n",
    "\n",
    "\n"
   ]
  },
  {
   "cell_type": "code",
   "execution_count": 33,
   "metadata": {},
   "outputs": [
    {
     "data": {
      "image/png": "[encoded data removed]",
      "text/plain": [
       "<Figure size 504x360 with 1 Axes>"
      ]
     },
     "metadata": {
      "needs_background": "light"
     },
     "output_type": "display_data"
    }
   ],
   "source": [
    "# plotting options \n",
    "import matplotlib\n",
    "font = {'size'   : 15}\n",
    "plt.rc('font', **font)\n",
    "plt.rc('text', usetex=matplotlib.checkdep_usetex(True))\n",
    "\n",
    "plt.figure(figsize=(7,5))\n",
    "plt.plot(np.arange(num_epochs)*2, MI_reference * np.ones(num_epochs))\n",
    "plt.plot(np.arange(num_epochs)*2, MI_eval)\n",
    "plt.xlim((0,2000))\n",
    "plt.ylim((0,1.5))\n",
    "plt.grid(True)\n",
    "plt.legend([r'${I}(\\mathsf{r};\\mathsf{t}) = \\frac{1}{2} \\log_2\\left(1+2\\frac{E_{\\mathrm{s}}}{N_0}\\right)$','MINE'])\n",
    "plt.title('Convergence of MINE');\n",
    "plt.xlabel('Batch')\n",
    "plt.ylabel('$\\\\hat{I}(\\mathsf{r};\\mathsf{t})$ (bit/channel use)')\n",
    "\n",
    "#plt.savefig('MINE_Convergence.pdf',bbox_inches='tight')"
   ]
  },
  {
   "cell_type": "markdown",
   "metadata": {},
   "source": [
    "Now we train a GMM for each constellation point individually. We will use this one to compute the mutual information (and hence the performance of a transmission scheme) later"
   ]
  },
  {
   "cell_type": "code",
   "execution_count": 36,
   "metadata": {},
   "outputs": [],
   "source": [
    "def MINE_getMI_AWGN(EsN0):\n",
    "    # Generate variational function\n",
    "    model = Variational_Function(hidden_neurons_1, hidden_neurons_2)\n",
    "    model.to(device)\n",
    "\n",
    "    # Adam Optimizer\n",
    "    optimizer = optim.Adam(model.parameters(), lr=0.0001)  \n",
    "\n",
    "    num_epochs = 200\n",
    "    batches_per_epoch = 250\n",
    "\n",
    "    # increase batch size while learning from 100 up to 10000\n",
    "    batch_size_per_epoch = np.linspace(400, 20000, num=num_epochs, dtype=int)\n",
    "\n",
    "    ma_et = 0;\n",
    "    MI_eval = np.zeros(num_epochs)\n",
    "    \n",
    "    for epoch in range(num_epochs):\n",
    "        for step in range(batches_per_epoch):\n",
    "            t,r = simulate_channel(np.random.randn(batch_size_per_epoch[epoch]), EsN0)\n",
    "            _,rtilde = simulate_channel(np.random.randn(batch_size_per_epoch[epoch]), EsN0)\n",
    "\n",
    "            model.train()\n",
    "\n",
    "            # generate input to first call of the variational function\n",
    "            input_1 = np.vstack( (t, r) ).transpose()\n",
    "            torch_in1 = torch.from_numpy(input_1).float().to(device)\n",
    "\n",
    "            # generate input to second call of the variational function\n",
    "            input_2 = np.vstack( (t, rtilde) ).transpose()\n",
    "            torch_in2 = torch.from_numpy(input_2).float().to(device)\n",
    "\n",
    "            # apply the variational function\n",
    "            out_1 = model(torch_in1)\n",
    "            out_2 = model(torch_in2)\n",
    "\n",
    "\n",
    "            # loss function. Attenation, put a minus sign as we want to maximize\n",
    "            #loss = -torch.mean(out_1) + torch.log(torch.mean(torch.exp(out_2)))\n",
    "            tmp = torch.exp(out_2)\n",
    "            ma_et = (1.0-0.05)*ma_et + 0.05*torch.mean(tmp.detach())        \n",
    "            loss = -torch.mean(out_1) + (1/ma_et.mean()).detach() * torch.mean(tmp.detach() * out_2)       \n",
    "\n",
    "            # compute gradients\n",
    "            loss.backward() \n",
    "\n",
    "            # carry out one optimization step with Adam\n",
    "            optimizer.step()\n",
    "\n",
    "            # reset gradients to zero\n",
    "            optimizer.zero_grad()\n",
    "        \n",
    "        model.eval()\n",
    "        t,r = simulate_channel(np.random.randn(100000), EsN0)\n",
    "        _,rtilde = simulate_channel(np.random.randn(100000), EsN0)\n",
    "\n",
    "\n",
    "        # generate input to first call of the variational function\n",
    "        input_1 = np.vstack( (t,r) ).transpose()\n",
    "        torch_in1 = torch.from_numpy(input_1).float().to(device)\n",
    "\n",
    "        # generate input to second call of the variational function\n",
    "        input_2 = np.vstack( (t,rtilde) ).transpose()\n",
    "        torch_in2 = torch.from_numpy(input_2).float().to(device)\n",
    "\n",
    "        # apply the variational function\n",
    "        out_1 = model(torch_in1)\n",
    "        out_2 = model(torch_in2)\n",
    "\n",
    "        # Obtain mutual information\n",
    "        MI_eval[epoch] = (torch.mean(out_1) - torch.log2(torch.mean(torch.pow(2.0, out_2)))).cpu().detach().numpy()\n",
    "\n",
    "    return np.max(MI_eval)"
   ]
  },
  {
   "cell_type": "markdown",
   "metadata": {},
   "source": [
    "Show performance over a range of $E_{\\mathrm{s}}/N_0$."
   ]
  },
  {
   "cell_type": "code",
   "execution_count": 37,
   "metadata": {},
   "outputs": [
    {
     "data": {
      "application/vnd.jupyter.widget-view+json": {
       "model_id": "30ed8fdd8b054bd8ae1fb43ca0cc8560",
       "version_major": 2,
       "version_minor": 0
      },
      "text/plain": [
       "IntProgress(value=0, max=10)"
      ]
     },
     "metadata": {},
     "output_type": "display_data"
    }
   ],
   "source": [
    "num_elements = 10\n",
    "esno_range = np.linspace(-10,10, num_elements)\n",
    "\n",
    "\n",
    "f = IntProgress(min=0, max=num_elements) # instantiate the bar\n",
    "display(f) # display the bar\n",
    "\n",
    "MI_ref = np.zeros(num_elements)\n",
    "MI_MINE = np.zeros(num_elements)\n",
    "\n",
    "for i,esno in enumerate(esno_range):\n",
    "    MI_ref[i] = 0.5*np.log2(1 + 2 * 10.0**(esno/10.0))\n",
    "    MI_MINE[i] = MINE_getMI_AWGN(esno)\n",
    "    \n",
    "    # increase progress bar\n",
    "    f.value += 1"
   ]
  },
  {
   "cell_type": "code",
   "execution_count": 38,
   "metadata": {},
   "outputs": [
    {
     "data": {
      "image/png": "[encoded data removed]",
      "text/plain": [
       "<Figure size 504x360 with 1 Axes>"
      ]
     },
     "metadata": {
      "needs_background": "light"
     },
     "output_type": "display_data"
    }
   ],
   "source": [
    "# plotting options \n",
    "import matplotlib\n",
    "font = {'size'   : 15}\n",
    "plt.rc('font', **font)\n",
    "plt.rc('text', usetex=matplotlib.checkdep_usetex(True))\n",
    "\n",
    "plt.figure(figsize=(7,5))\n",
    "plt.plot(esno_range, MI_ref)\n",
    "plt.plot(esno_range, MI_MINE)\n",
    "plt.xlim((-10,10))\n",
    "plt.ylim((0,3))\n",
    "plt.grid(True)\n",
    "plt.legend([r'${I}(\\mathsf{r};\\mathsf{t}) = \\frac{1}{2} \\log_2\\left(1+2\\frac{E_{\\mathrm{s}}}{N_0}\\right)$','MINE'])\n",
    "plt.title('MINE over the AWGN channel');\n",
    "plt.xlabel('$E_{\\mathrm{s}}/N_0$ (dB)')\n",
    "plt.ylabel('$\\\\hat{I}(\\mathsf{r};\\mathsf{t})$ (bit/channel use)')\n",
    "\n",
    "#plt.savefig('MINE_AWGN.pdf',bbox_inches='tight')"
   ]
  },
  {
   "cell_type": "code",
   "execution_count": null,
   "metadata": {},
   "outputs": [],
   "source": []
  }
 ],
 "metadata": {
  "kernelspec": {
   "display_name": "Python 3",
   "language": "python",
   "name": "python3"
  },
  "language_info": {
   "codemirror_mode": {
    "name": "ipython",
    "version": 3
   },
   "file_extension": ".py",
   "mimetype": "text/x-python",
   "name": "python",
   "nbconvert_exporter": "python",
   "pygments_lexer": "ipython3",
   "version": "3.6.15"
  }
 },
 "nbformat": 4,
 "nbformat_minor": 2
}
