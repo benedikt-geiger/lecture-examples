{
 "cells": [
  {
   "cell_type": "markdown",
   "metadata": {},
   "source": [
    "# Content and Objective\n",
    "\n",
    "+ Demonstrate graphical representation of convolution\n",
    "+ User may choose different sequences that are then convolved\n",
    "+ Illustration of the effect of a system with low pass behavior onto a modulated signal"
   ]
  },
  {
   "cell_type": "code",
   "execution_count": 1,
   "metadata": {},
   "outputs": [],
   "source": [
    "import numpy as np\n",
    "import matplotlib.pyplot as plt\n",
    "import ipywidgets as widgets\n",
    "from scipy import signal\n"
   ]
  },
  {
   "cell_type": "markdown",
   "metadata": {},
   "source": [
    "# Reminder\n",
    " The convolution of two sequences is defined as:\n",
    "  $$(x*h)[n]:=\\sum_{k=-\\infty}^{\\infty} h[k]\\cdot x[n-k]$$"
   ]
  },
  {
   "cell_type": "markdown",
   "metadata": {},
   "source": [
    "# Here two different impulse responses can be chosen. "
   ]
  },
  {
   "cell_type": "code",
   "execution_count": 2,
   "metadata": {},
   "outputs": [],
   "source": [
    "# Example of the convolution of two equal rectangles\n",
    "# you may redefine function and impulse response\n",
    "\n",
    "# signal\n",
    "x = np.array( [ 0, 1, 1, 0, 0, 0, 0 ] )\n",
    "\n",
    "# impulse response\n",
    "h = np.array( [ 0,1, 1, 0, 0, 0, 0 ] )"
   ]
  },
  {
   "cell_type": "markdown",
   "metadata": {},
   "source": [
    "# Visualization, before the impulse responses overlap in the convolution operation\n",
    "\n",
    " First the two impulse responses are plotted. Then, $x$ must be flipped, because $k$ appears with negative sign.\n",
    "The given signals have no common support for n=-1. This is the point, just before they start overlapping in the graphical representation."
   ]
  },
  {
   "cell_type": "code",
   "execution_count": 3,
   "metadata": {},
   "outputs": [
    {
     "data": {
      "text/plain": [
       "<matplotlib.legend.Legend at 0x11fbe8b20>"
      ]
     },
     "execution_count": 3,
     "metadata": {},
     "output_type": "execute_result"
    },
    {
     "data": {
      "image/png": "[encoded data removed]",
      "text/plain": [
       "<Figure size 1080x360 with 2 Axes>"
      ]
     },
     "metadata": {
      "needs_background": "light"
     },
     "output_type": "display_data"
    }
   ],
   "source": [
    "plt.figure(figsize=(15, 5))\n",
    "\n",
    "# First plot the two original signals\n",
    "plt.subplot(1, 2, 1, title=('Original signals'))\n",
    "markerline, stemlines, baseline = plt.stem( np.arange( len( x ) ), x, label='x[n]' )\n",
    "\n",
    "plt.setp(markerline, color=\"b\")\n",
    "plt.setp(stemlines, 'color', plt.getp(markerline, 'color'))\n",
    "plt.setp(stemlines, 'linestyle', 'dotted')\n",
    "plt.xlabel('n')\n",
    "plt.legend()\n",
    "\n",
    "\n",
    "#Plotting of the sequences before they start overlapping in the convolution process\n",
    "plt.subplot(1, 2, 2, title=(f'h[k] and x[-1-k]'))\n",
    "\n",
    "#Now the sequence x is flipped because of the negative k in its argument\n",
    "markerline, stemlines, baseline = plt.stem( np.arange( len( x ) ) - len( x ), np.flip( x ), label='x[-n]' )\n",
    "markerline, stemlines, baseline = plt.stem( np.arange( len( h ) ), h, markerfmt='^', label='h[n]')\n",
    "\n",
    "plt.setp(markerline, color=\"g\")\n",
    "plt.setp(stemlines, 'color', plt.getp(markerline, 'color'))\n",
    "plt.setp(stemlines, 'linestyle', 'dotted')\n",
    "plt.xlabel('k')\n",
    "plt.legend()"
   ]
  },
  {
   "cell_type": "markdown",
   "metadata": {},
   "source": [
    "# Animation of the graphical evaluation of the convolution.\n",
    "\n",
    "+ Convolution of two sequences result in a new sequence\n",
    "+ Each sample of the new sequence can be graphically determined\n",
    "+ To do so, one sequence is flipped and then step by step swept over the other sequence\n",
    "+ The 'area' of overlap results in the value of the new sequence"
   ]
  },
  {
   "cell_type": "markdown",
   "metadata": {},
   "source": [
    " In the next cell, first the whole convolution is calculated using the scipy toolbox. Afterwards, each point of the sequence that results from the convolution is calculated using a custom implementation. This allows to show in the left plot, which overlapping area results in this specific point."
   ]
  },
  {
   "cell_type": "code",
   "execution_count": 4,
   "metadata": {},
   "outputs": [],
   "source": [
    "def illustrate_convolution( n ):\n",
    "    '''\n",
    "    IN: Point n of the resulting sequence that shall be calculated\n",
    "    \n",
    "    OUT: Animation of the graphical representation\n",
    "    '''\n",
    "\n",
    "    # Calculate the whole convolution (black dots in second plot)\n",
    "    convolution = signal.convolve(x, h)  # Does the convolution with scipy\n",
    "\n",
    "    if plt.get_fignums():\n",
    "        plt.clf()\n",
    "    else:\n",
    "        plt.figure(figsize=(15, 5))\n",
    "\n",
    "    # By varying n, slides through h. The current support of x in terms of k is:\n",
    "    current_x_interval = np.arange( len(x) ) - ( len(x)-1 ) + n\n",
    "\n",
    "    # Determine areas of overlap\n",
    "    is_larger_zero = np.array( 0 <= current_x_interval)\n",
    "    is_smaller_len_h = np.array(len(h) > current_x_interval)\n",
    "\n",
    "    # Color samples of the two sequences that overlap red\n",
    "    col_x = np.where(np.logical_and(\n",
    "        is_larger_zero, is_smaller_len_h), 'r', 'b')\n",
    "    col_h = np.where(np.flip(np.logical_and(\n",
    "        is_larger_zero, is_smaller_len_h)), 'r', 'g')\n",
    "\n",
    "    # Plotting\n",
    "    plt.subplot(1, 2, 1, title=(f'h[k] and x[{n}-k]'))\n",
    "\n",
    "    # Plot current position of x\n",
    "    plt.scatter(current_x_interval, np.flip(x), marker='x', c=col_x, label='x[n]')\n",
    "\n",
    "    # Plot h\n",
    "    plt.scatter(np.arange(len(h)), h, marker='o', c=col_h, label='h[n]')\n",
    "\n",
    "    # Choose limits, such that\n",
    "    plt.xlim(-len(x)-1, len(h)+len(x)+2)\n",
    "    plt.xlabel('k')\n",
    "    plt.legend()\n",
    "\n",
    "    # Calculates the current point of the convolution --> Flips one signal and sweeps it through the other signal\n",
    "    # Then, according to the definition of the convolution, sum up over the product of samples that coincide.\n",
    "    point_convolution = np.sum(np.flip(x)[np.logical_and(\n",
    "        is_larger_zero, is_smaller_len_h)]*h[np.flip(np.logical_and(is_larger_zero, is_smaller_len_h))])\n",
    "\n",
    "    # Plot second figure\n",
    "    plt.subplot(1, 2, 2, title=('Convolution'))\n",
    "\n",
    "    # First full convolution from toolbok\n",
    "    markerline, stemlines, baseline = plt.stem( np.arange( len(convolution) ), convolution, label='(x*h)[n]')  # schwarz\n",
    "\n",
    "    plt.setp(markerline, color=\"k\")\n",
    "    plt.setp(stemlines, 'color', plt.getp(markerline, 'color'))\n",
    "    plt.setp(stemlines, 'linestyle', 'dotted')\n",
    "    plt.xlim(-1, len(h)+len(x))\n",
    "    plt.legend()\n",
    "\n",
    "    # Plot current point that results from the overlap in the left figure\n",
    "    markerline, stemlines, baseline = plt.stem(n, point_convolution , label='(x*h)[n], current point')  # rot\n",
    "    plt.setp(markerline, color=\"r\")\n",
    "    plt.setp(stemlines, 'color', plt.getp(markerline, 'color'))\n",
    "    plt.setp(stemlines, 'linestyle', 'dotted')\n",
    "    plt.xlabel('n')\n",
    "    plt.legend()\n"
   ]
  },
  {
   "cell_type": "markdown",
   "metadata": {},
   "source": [
    "# First as an animation."
   ]
  },
  {
   "cell_type": "code",
   "execution_count": 5,
   "metadata": {},
   "outputs": [
    {
     "data": {
      "application/vnd.jupyter.widget-view+json": {
       "model_id": "8f7efd9d6bfb49fa93ba1c77fe139155",
       "version_major": 2,
       "version_minor": 0
      },
      "text/plain": [
       "interactive(children=(Play(value=0, description='n', max=13, min=-2), Output()), _dom_classes=('widget-interac…"
      ]
     },
     "metadata": {},
     "output_type": "display_data"
    }
   ],
   "source": [
    "w = widgets.interact(illustrate_convolution, n=widgets.Play(\n",
    "    min=-2, max=len(x)+len(h)-1))\n"
   ]
  },
  {
   "cell_type": "markdown",
   "metadata": {},
   "source": [
    "### Here the overlap can be interactively adapted."
   ]
  },
  {
   "cell_type": "code",
   "execution_count": 6,
   "metadata": {},
   "outputs": [
    {
     "data": {
      "application/vnd.jupyter.widget-view+json": {
       "model_id": "69d1b83ed16340469d258b0708675a40",
       "version_major": 2,
       "version_minor": 0
      },
      "text/plain": [
       "interactive(children=(IntSlider(value=0, description='n', max=13, min=-1), Output()), _dom_classes=('widget-in…"
      ]
     },
     "metadata": {},
     "output_type": "display_data"
    }
   ],
   "source": [
    "w = widgets.interact( illustrate_convolution, n=widgets.IntSlider(min=-1, max=len(x)+len(h)-1) )\n"
   ]
  },
  {
   "cell_type": "markdown",
   "metadata": {},
   "source": [
    "# Implementation of Non-Return-To-Zero modulation:\n",
    "\n",
    "+ An input value is simply repeated as often as specified  "
   ]
  },
  {
   "cell_type": "code",
   "execution_count": 7,
   "metadata": {},
   "outputs": [],
   "source": [
    "def nrz( binary_data, sample_values_per_bit ):\n",
    "    '''\n",
    "    IN: Binary bit stream, Over sampling factor\n",
    "\n",
    "    OUT: NRZ modulated sequence\n",
    "    '''\n",
    "    return np.repeat(binary_data, sample_values_per_bit)\n"
   ]
  },
  {
   "cell_type": "markdown",
   "metadata": {},
   "source": [
    "# Influence of a Low-Pass System on a modulated signal\n",
    "\n",
    " In the next cells we investigate the influence of a channel impulse response on our modulated signal. To do so, we modulate our bit stream using NRZ modulation. Afterwards, we transmit the signal over a channel with low-pass behavior. In a simple case, a channel with low-pass behavior can be modeled by an RC element. \n",
    "\n",
    "**Reminder**\n",
    " \n",
    "An RC element has the (continuous-time) transfer function\n",
    "$$G(s)=\\frac{1}{1+RCs}$$\n",
    " with\n",
    "    $$ \\tau=RC $$\n",
    "   being the time constant. The higher $\\tau$ the lower the cutoff frequency. Our signal consists of high frequency components, due to the NRZ modulation. Therefore, we expect a stronger influence on our signal, the lower the cutoff frequency gets, because high frequency are strongly attenuated.\n",
    "\n"
   ]
  },
  {
   "cell_type": "code",
   "execution_count": 8,
   "metadata": {},
   "outputs": [],
   "source": [
    "def rc_element( time_constant, time):\n",
    "    '''\n",
    "    IN: Time constant and discretization of time\n",
    "\n",
    "    OUT: sampled values of the impulse response\n",
    "    '''\n",
    "\n",
    "    rc_element = signal.TransferFunction([1], [time_constant, 1])\n",
    "    \n",
    "    return signal.impulse( rc_element, T = time )\n",
    "\n",
    "\n"
   ]
  },
  {
   "cell_type": "markdown",
   "metadata": {},
   "source": [
    "# Generate bitstream and modulate it with NRZ"
   ]
  },
  {
   "cell_type": "code",
   "execution_count": 9,
   "metadata": {},
   "outputs": [],
   "source": [
    "#Define time and discretize it\n",
    "signal_time_length = 20\n",
    "time_step_size = 0.01\n",
    "\n",
    "time = np.arange( 0, signal_time_length, step = time_step_size )\n",
    "\n",
    "#Randomly generate data\n",
    "binary_data = np.random.randint(\n",
    "    low=2, size=signal_time_length)  # bit per second\n",
    "\n",
    "##Non-Return-to-Zero (NRZ) Modulation of the binary data\n",
    "nrz_signal = nrz(binary_data, int(1/time_step_size)) \n",
    "\n",
    "\n"
   ]
  },
  {
   "cell_type": "markdown",
   "metadata": {},
   "source": [
    "# Plot that allows to adapt the time constant."
   ]
  },
  {
   "cell_type": "code",
   "execution_count": 10,
   "metadata": {},
   "outputs": [],
   "source": [
    "def plot_convol(time_constant):\n",
    "    '''\n",
    "    IN: Time_constant\n",
    "    OUT: 2 Plots.\n",
    "    '''\n",
    "\n",
    "    #Sampled impulse response of the rc element\n",
    "    t, impulse_response_rc = rc_element(time_constant, time)\n",
    "\n",
    "    #Signal after transmission over the channel modeled by an RC element.\n",
    "    convolved = signal.convolve(nrz_signal, impulse_response_rc)\n",
    "    convolved = convolved/np.max(convolved)\n",
    "\n",
    "    \n",
    "    #PLOTTING\n",
    "    fig = plt.figure(figsize=(25, 10))\n",
    "\n",
    "    # First plot \n",
    "    ax = plt.subplot(2, 1, 1)\n",
    "    \n",
    "\n",
    "    # Modulates signal      \n",
    "    plt.plot(time, nrz_signal, label='NRZ modulated bit sequence', c='k')\n",
    "    \n",
    "    #Impuse Response of the RC element\n",
    "    plt.plot(t, impulse_response_rc/np.max(impulse_response_rc),\n",
    "             label='Impulse response of the rc element')\n",
    "\n",
    "    # Parametrize plot\n",
    "    ax.set_xlabel('t in [s]')    \n",
    "    plt.legend(bbox_to_anchor=(1, 1.05))\n",
    "    ax.set_title('NRZ modulated signal and impulse response of the rc element')\n",
    "\n",
    "    # Second plot\n",
    "    ax = plt.subplot(2, 1, 2)\n",
    "\n",
    "    # Plot of the signal after transmission\n",
    "    plt.plot(np.arange(start=0, stop=0.01*(len(convolved)),\n",
    "                       step=0.01), convolved, label='NRZ signal convolved with the impulse response of the rc element')\n",
    "\n",
    "    \n",
    "    # Plot original NRZ sequence as reference\n",
    "    plt.plot(time, nrz_signal, label='NRZ modulated bit sequence', c='k')\n",
    "\n",
    "    #Parametrize plot\n",
    "    ax.set_title(\n",
    "        'Original signal and signal after convolution with rc element')\n",
    "    plt.xlim(0, signal_time_length+2)\n",
    "    ax.set_title('C')\n",
    "    ax.set_xlabel('t in [s]')\n",
    "    ax.legend( bbox_to_anchor=(1, 1.05))\n",
    "    plt.tight_layout()\n"
   ]
  },
  {
   "cell_type": "markdown",
   "metadata": {},
   "source": [
    "# First plot\n",
    " The first plot shows the impulse response of the RC element in blue and the NRZ modulated signal in black. The slider allows to vary the time constant $\\tau$.\n",
    "# Second plot\n",
    "For higher time constants $\\tau$ the sharp edges of the NRZ modulation get smoothened such that the different bits can not be distinguished anymore. This effect is called Inter-Symbol-Interference (ISI) and leads to undesired behavior. Thus, the phenomenon must be avoided using e.g. guard intervals in between the bit positions."
   ]
  },
  {
   "cell_type": "code",
   "execution_count": 11,
   "metadata": {},
   "outputs": [
    {
     "data": {
      "application/vnd.jupyter.widget-view+json": {
       "model_id": "a2987f346b5a4759b5ac543e9bf78792",
       "version_major": 2,
       "version_minor": 0
      },
      "text/plain": [
       "interactive(children=(FloatSlider(value=0.1, description='time_constant', max=2.0, min=0.001, step=0.01), Outp…"
      ]
     },
     "metadata": {},
     "output_type": "display_data"
    }
   ],
   "source": [
    "w = widgets.interact(plot_convol, time_constant=widgets.FloatSlider(\n",
    "    min=0.001, max=2, step=0.01, continuous_update=True, value=0.1))\n"
   ]
  }
 ],
 "metadata": {
  "kernelspec": {
   "display_name": "Python 3.9.12 ('base')",
   "language": "python",
   "name": "python3"
  },
  "language_info": {
   "codemirror_mode": {
    "name": "ipython",
    "version": 3
   },
   "file_extension": ".py",
   "mimetype": "text/x-python",
   "name": "python",
   "nbconvert_exporter": "python",
   "pygments_lexer": "ipython3",
   "version": "3.9.12"
  },
  "vscode": {
   "interpreter": {
    "hash": "5f9edd3c35c00833966818d36fdef064b480c6a9bc3bc73df3c3357c3edbbb9e"
   }
  }
 },
 "nbformat": 4,
 "nbformat_minor": 2
}
