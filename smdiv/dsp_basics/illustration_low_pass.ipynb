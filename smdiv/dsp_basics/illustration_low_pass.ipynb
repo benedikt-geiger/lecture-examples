{
 "cells": [
  {
   "cell_type": "markdown",
   "metadata": {},
   "source": [
    "# Content and Objective\n",
    "\n",
    "+ Demonstrate effect of low-pass on a rectangular signal"
   ]
  },
  {
   "cell_type": "code",
   "execution_count": 1,
   "metadata": {},
   "outputs": [],
   "source": [
    "import numpy as np\n",
    "import matplotlib.pyplot as plt\n",
    "import ipywidgets as widgets\n",
    "from scipy import signal"
   ]
  },
  {
   "cell_type": "markdown",
   "metadata": {},
   "source": [
    "# Reminder\n",
    "+ The convolution of two sequences is defined as:\n",
    "  $$(x*h)[n]:=\\sum_{k=-\\infty}^{\\infty} h[k]\\cdot x[n-k]$$"
   ]
  },
  {
   "cell_type": "markdown",
   "metadata": {},
   "source": [
    "# Effects of Impulse Response and Low-pass Filtering"
   ]
  },
  {
   "cell_type": "markdown",
   "metadata": {},
   "source": [
    "### Implementation of Non-Return-To-Zero modulation:\n",
    "\n",
    "+ An binary input value is simply repeated as often as specified  \n",
    "+ Similar to sample-and-hold"
   ]
  },
  {
   "cell_type": "code",
   "execution_count": 2,
   "metadata": {},
   "outputs": [],
   "source": [
    "def nrz( binary_data, samples_per_bit ):\n",
    "    '''\n",
    "    IN: Binary bit stream, Over sampling factor\n",
    "\n",
    "    OUT: NRZ modulated sequence\n",
    "    '''\n",
    "    return np.repeat( binary_data, samples_per_bit )\n"
   ]
  },
  {
   "cell_type": "markdown",
   "metadata": {},
   "source": [
    "### Influence of a Low-Pass System on a modulated signal\n",
    "\n",
    " In the next cells we investigate the influence of a channel impulse response on our modulated signal. To do so, we modulate our bit stream using NRZ modulation. Afterwards, we transmit the signal over a channel with low-pass behavior. In a simple case, a channel with low-pass behavior can be modeled by an RC element. \n",
    "\n",
    "**NOTE:** An RC element has the (continuous-time) transfer function\n",
    "$$G(s)=\\frac{1}{1+RCs}$$\n",
    " with\n",
    "    $$ \\tau=RC $$\n",
    "   being the time constant. The higher $\\tau$ the lower the cutoff frequency. Our signal consists of high frequency components, due to the NRZ modulation. Therefore, we expect a stronger influence on our signal, the lower the cutoff frequency gets, because high frequency are strongly attenuated.\n",
    "\n"
   ]
  },
  {
   "cell_type": "code",
   "execution_count": 3,
   "metadata": {},
   "outputs": [],
   "source": [
    "def rc_impulse_response( time_constant, time):\n",
    "    '''\n",
    "    use on-board methods for defining the transfer function of an RC element and the resulting impulse response\n",
    "\n",
    "    IN: Time constant and discretization of time\n",
    "\n",
    "    OUT: sampled values of the impulse response\n",
    "    '''\n",
    "\n",
    "    rc_element = signal.TransferFunction( [1] , [time_constant, 1])\n",
    "    \n",
    "    return signal.impulse( rc_element, T = time )\n",
    "\n",
    "\n"
   ]
  },
  {
   "cell_type": "markdown",
   "metadata": {},
   "source": [
    "### Generate bitstream and modulate it with NRZ"
   ]
  },
  {
   "cell_type": "code",
   "execution_count": 4,
   "metadata": {},
   "outputs": [],
   "source": [
    "#Define time and discretize it\n",
    "bit_length = 20\n",
    "samples_per_bit = 100\n",
    "\n",
    "time = np.arange( 0, bit_length, step = 1/samples_per_bit )\n",
    "\n",
    "#Randomly generate data\n",
    "binary_data = np.random.randint( low=2, size = bit_length )  # bit per second\n",
    "\n",
    "##Non-Return-to-Zero (NRZ) Modulation of the binary data\n",
    "nrz_signal = nrz( binary_data, samples_per_bit ) \n",
    "\n",
    "\n"
   ]
  },
  {
   "cell_type": "markdown",
   "metadata": {},
   "source": [
    "### Define plotting function that allows to adapt the time constant"
   ]
  },
  {
   "cell_type": "code",
   "execution_count": 5,
   "metadata": {},
   "outputs": [],
   "source": [
    "def plot_convol( time_constant ):\n",
    "    '''\n",
    "    IN: Time_constant\n",
    "    OUT: 2 Plots.\n",
    "    '''\n",
    "\n",
    "    #Sampled impulse response of the rc element\n",
    "    t, impulse_response_rc = rc_impulse_response( time_constant, time )\n",
    "\n",
    "    #Signal after transmission over the channel modeled by an RC element.\n",
    "    convolved = signal.convolve( nrz_signal, impulse_response_rc )\n",
    "    convolved = convolved / np.max( np.abs( convolved ) )\n",
    "\n",
    "    \n",
    "    #PLOTTING\n",
    "    fig = plt.figure(figsize=(25, 10))\n",
    "\n",
    "\n",
    "    # First plot \n",
    "    ax = plt.subplot(2, 1, 1)\n",
    "    \n",
    "    # Modulated signal      \n",
    "    plt.plot(time, nrz_signal, label='NRZ modulated signal x[n]', c='k')\n",
    "    \n",
    "    # Impulse Response of the RC element\n",
    "    plt.plot(t, impulse_response_rc/np.max( np.abs( impulse_response_rc ) ),\n",
    "             label='Impulse response h[n]' )\n",
    "\n",
    "    # Parametrize plot\n",
    "    ax.set_xlabel('t in [s]')    \n",
    "    plt.legend()#bbox_to_anchor=(1, 1.05))\n",
    "    ax.set_title('NRZ modulated signal and impulse response of the RC element')\n",
    "    plt.xlim(0, bit_length+2)\n",
    "    \n",
    "\n",
    "    # Second plot\n",
    "    ax = plt.subplot(2, 1, 2)\n",
    "\n",
    "\n",
    "    # Plot original NRZ sequence as reference\n",
    "    plt.plot(time, nrz_signal, label='NRZ modulated signal x[n]', c='k')\n",
    "\n",
    "    # Plot of the signal after transmission\n",
    "    plt.plot(np.arange(start=0, stop=0.01*(len(convolved)),\n",
    "                       step=0.01), convolved, label='x[n] * h[n]')\n",
    "    \n",
    "    # Parametrize plot\n",
    "    ax.set_title(\n",
    "        'Original signal and signal after convolution with RC element')\n",
    "    plt.xlim(0, bit_length+2)\n",
    "    ax.set_title('C')\n",
    "    ax.set_xlabel('t in [s]')\n",
    "    ax.legend( )#bbox_to_anchor=(1, 1.05))\n",
    "    plt.tight_layout()\n"
   ]
  },
  {
   "cell_type": "markdown",
   "metadata": {},
   "source": [
    "### Plotting\n",
    "\n",
    "+ First plot: \n",
    "    + Impulse response of the RC element in blue: $h[n]$ \n",
    "    + NRZ modulated and upsampled signal in black $x[n]$\n",
    "    + The slider allows to vary the time constant $\\tau$.\n",
    "+ Second plot: \n",
    "    + Show effect of filtering.\n",
    "    + For higher time constants $\\tau$ the sharp edges of the NRZ modulation get smoothened such that the different bits can not be distinguished anymore. \n",
    "    + This effect is called Inter-Symbol-Interference (ISI) and leads to undesired behavior. Thus, the phenomenon must be avoided using, e.g., guard intervals in between the bit positions."
   ]
  },
  {
   "cell_type": "code",
   "execution_count": 6,
   "metadata": {},
   "outputs": [
    {
     "data": {
      "application/vnd.jupyter.widget-view+json": {
       "model_id": "c7e3c89951d546e0a8bc8619ba69641e",
       "version_major": 2,
       "version_minor": 0
      },
      "text/plain": [
       "interactive(children=(FloatSlider(value=0.1, description='time_constant', max=2.0, min=0.001, step=0.01), Outp…"
      ]
     },
     "metadata": {},
     "output_type": "display_data"
    }
   ],
   "source": [
    "w = widgets.interact(plot_convol, time_constant=widgets.FloatSlider(\n",
    "    min=0.001, max=2, step=0.01, continuous_update=True, value=0.1))\n"
   ]
  },
  {
   "cell_type": "code",
   "execution_count": null,
   "metadata": {},
   "outputs": [],
   "source": []
  }
 ],
 "metadata": {
  "kernelspec": {
   "display_name": "Python 3.9.12 ('base')",
   "language": "python",
   "name": "python3"
  },
  "language_info": {
   "codemirror_mode": {
    "name": "ipython",
    "version": 3
   },
   "file_extension": ".py",
   "mimetype": "text/x-python",
   "name": "python",
   "nbconvert_exporter": "python",
   "pygments_lexer": "ipython3",
   "version": "3.9.12"
  },
  "vscode": {
   "interpreter": {
    "hash": "5f9edd3c35c00833966818d36fdef064b480c6a9bc3bc73df3c3357c3edbbb9e"
   }
  }
 },
 "nbformat": 4,
 "nbformat_minor": 2
}
