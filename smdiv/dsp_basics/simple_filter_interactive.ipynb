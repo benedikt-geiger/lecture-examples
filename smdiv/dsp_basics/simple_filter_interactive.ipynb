{
 "cells": [
  {
   "cell_type": "markdown",
   "metadata": {},
   "source": [
    "# Content and Objective\n",
    "\n",
    "+ Showing effects of varying length of impulse response\n",
    "\n",
    "+ White gaussian noise is sampled and filtered with impulse response constisting of \"1\"!\n",
    "$$X[n] \\sim\\mathcal{N}(0, 1), \\quad n=0, \\ldots, N_\\text{signal}$$\n",
    "$$ h[n] = \\begin{cases} \\frac{1}{\\sqrt{ N_\\text{filter} }}, & 0\\leq n\\leq N_\\text{filter} - 1 \\\\ 0 , & \\text{otherwise}\\end{cases} $$\n",
    "$$Y[n]=X[n]\\ast h[n], \\quad 0\\leq n\\leq N_\\text{signal}+N_\\text{filter} - 1$$ "
   ]
  },
  {
   "cell_type": "markdown",
   "metadata": {},
   "source": [
    "# Importing"
   ]
  },
  {
   "cell_type": "code",
   "execution_count": 1,
   "metadata": {},
   "outputs": [],
   "source": [
    "import numpy as np\n",
    "\n",
    "import matplotlib\n",
    "import matplotlib.pyplot as plt\n",
    "from matplotlib import animation, rc\n",
    "from matplotlib.animation import PillowWriter # Disable if you don't want to save any GIFs.\n",
    "\n",
    "from ipywidgets import interactive\n",
    "import ipywidgets as widgets\n",
    "%matplotlib inline "
   ]
  },
  {
   "cell_type": "markdown",
   "metadata": {},
   "source": [
    "# Misc Helper Function"
   ]
  },
  {
   "cell_type": "code",
   "execution_count": 2,
   "metadata": {},
   "outputs": [],
   "source": [
    "# function for applying filtering operation\n",
    "# NOTE: function has option \"normalized\" to not increase output power w. filter length\n",
    "def apply_filter( x: np.ndarray, filter_length: int, normalized: int = 1 ) -> np.ndarray :\n",
    "\n",
    "    # init with according amount of ones\n",
    "    h = np.ones( filter_length )\n",
    "    \n",
    "    # want to normalize?\n",
    "    if normalized:\n",
    "        h /= np.sqrt( filter_length )\n",
    "\n",
    "    return np.convolve( x, h, 'full' )\n",
    "\n",
    "\n",
    "# function for getting acf\n",
    "def get_acf( x: np.ndarray, is_unbiased = 0 ) -> np.ndarray :\n",
    "\n",
    "    if is_unbiased:\n",
    "        factor = np.linspace( -x.size, x.size, 2 * x.size - 1 )\n",
    "    else:\n",
    "        factor = x.size\n",
    "\n",
    "    return np.correlate( x, x, 'full' ) / factor\n",
    "\n",
    "\n",
    "# function for getting psd\n",
    "def get_psd( x: np.ndarray ) -> np.ndarray :\n",
    "\n",
    "    #return 1 / x.size * np.abs( np.fft.fft( get_acf( x ) ) )**2\n",
    "    return np.fft.fft( get_acf( x ) )"
   ]
  },
  {
   "cell_type": "markdown",
   "metadata": {},
   "source": [
    "# Interactive Plots"
   ]
  },
  {
   "cell_type": "markdown",
   "metadata": {},
   "source": [
    "### Show signals"
   ]
  },
  {
   "cell_type": "code",
   "execution_count": 3,
   "metadata": {},
   "outputs": [
    {
     "data": {
      "application/vnd.jupyter.widget-view+json": {
       "model_id": "5430f2439b0045a7b32ac912788561dd",
       "version_major": 2,
       "version_minor": 0
      },
      "text/plain": [
       "interactive(children=(IntSlider(value=1, continuous_update=False, description='Filter length', layout=Layout(w…"
      ]
     },
     "metadata": {},
     "output_type": "display_data"
    }
   ],
   "source": [
    "# sampling time\n",
    "t_sample = 1\n",
    "\n",
    "# get length and  samples of input signal\n",
    "signal_length = 1000\n",
    "x = np.random.randn( signal_length )\n",
    "\n",
    "\n",
    "# time vector of x\n",
    "in_time = np.linspace( 0, signal_length, x.size ) * t_sample\n",
    "\n",
    "\n",
    "# interactive plotting function\n",
    "def plot_filter_output( filter_length ):\n",
    "\n",
    "    # get output signal by filtering \n",
    "    y = apply_filter( x, filter_length )\n",
    "    \n",
    "    # number of samples at output\n",
    "    out_time = np.arange( 0, signal_length + filter_length - 1 ) * t_sample\n",
    "\n",
    "\n",
    "    # figure for time signals\n",
    "    plt.figure( figsize=( 20, 8 ) )\n",
    "    font = {'size'   : 14}\n",
    "    plt.rc('font', **font)\n",
    "    plt.rc('text', usetex=matplotlib.checkdep_usetex(True))\n",
    "    plt.ylim( (np.min(x), np.max(x)))\n",
    "\n",
    "    plt.plot( in_time, x, label='$x[n]$' )\n",
    "    plt.plot( out_time, y, label='$y[n]$'  )\n",
    "\n",
    "    plt.xlabel(r'$n$',fontsize=14)\n",
    "    plt.legend( )\n",
    "    plt.grid( True )\n",
    "    plt.title('Signals')    \n",
    "\n",
    "\n",
    "interactive_update = interactive( \n",
    "    plot_filter_output, \n",
    "    filter_length = widgets.IntSlider(\n",
    "            min = 1, max = signal_length, step = 1, value = 1, \n",
    "            continuous_update = False, \n",
    "            description = 'Filter length', \n",
    "            style={'description_width': 'initial'}, \n",
    "            layout=widgets.Layout(width='50%'),\n",
    "            align_items='center',\n",
    "            )\n",
    "    )\n",
    "\n",
    "\n",
    "output = interactive_update.children[-1]\n",
    "output.layout.height = '500px'\n",
    "interactive_update"
   ]
  },
  {
   "cell_type": "markdown",
   "metadata": {},
   "source": [
    "### Show acf"
   ]
  },
  {
   "cell_type": "code",
   "execution_count": 4,
   "metadata": {},
   "outputs": [
    {
     "data": {
      "application/vnd.jupyter.widget-view+json": {
       "model_id": "f9e2fa6fcdc84d99af4786fea5ce51b7",
       "version_major": 2,
       "version_minor": 0
      },
      "text/plain": [
       "interactive(children=(IntSlider(value=1, continuous_update=False, description='Filter length', layout=Layout(w…"
      ]
     },
     "metadata": {},
     "output_type": "display_data"
    }
   ],
   "source": [
    "# get acf\n",
    "acf_x = get_acf( x ) \n",
    "\n",
    "\n",
    "# time vector of acf of x\n",
    "in_time_acf = np.linspace( -x.size, x.size, acf_x.size ) \n",
    "\n",
    "\n",
    "# interactive plotting function\n",
    "def plot_filter_output( filter_length ):\n",
    "\n",
    "   # apply filter and get acf\n",
    "    y = apply_filter( x, filter_length )\n",
    "   \n",
    "    acf_y = get_acf( y )\n",
    "    out_time_acf = np.linspace( -y.size, y.size, acf_y.size ) \n",
    "\n",
    "\n",
    "    # figure for acfs\n",
    "    plt.figure( figsize = (18,8) ) \n",
    "    font = {'size'   : 14}\n",
    "    plt.rc('font', **font)\n",
    "    plt.rc('text', usetex=matplotlib.checkdep_usetex(True))\n",
    "    \n",
    "\n",
    "    plt.plot( in_time_acf, acf_x, label='$\\\\varphi_{XX}[k]$' )\n",
    "    plt.plot( out_time_acf, acf_y, label='$\\\\varphi_{YY}[k]$' )\n",
    "\n",
    "    plt.xlabel(r'$k$',fontsize=14)\n",
    "    plt.legend( )\n",
    "    plt.grid( True )\n",
    "    plt.title('ACFs')    \n",
    "\n",
    "\n",
    "interactive_update = interactive( \n",
    "    plot_filter_output, \n",
    "    filter_length = widgets.IntSlider(\n",
    "            min = 1, max = signal_length, step = 1, value = 1, \n",
    "            continuous_update = False, \n",
    "            description = 'Filter length', \n",
    "            style={'description_width': 'initial'}, \n",
    "            layout=widgets.Layout(width='50%'),\n",
    "            align_items='center',\n",
    "            )\n",
    "    )\n",
    "\n",
    "output = interactive_update.children[-1]\n",
    "output.layout.height = '500px'\n",
    "interactive_update"
   ]
  },
  {
   "cell_type": "code",
   "execution_count": null,
   "metadata": {},
   "outputs": [],
   "source": []
  }
 ],
 "metadata": {
  "interpreter": {
   "hash": "5255d4965777258bfd0c45a16cf3b539e9be4f3e95556e5c394782b7bcfb1eb3"
  },
  "kernelspec": {
   "display_name": "Python 3.8.12 ('base')",
   "language": "python",
   "name": "python3"
  },
  "language_info": {
   "codemirror_mode": {
    "name": "ipython",
    "version": 3
   },
   "file_extension": ".py",
   "mimetype": "text/x-python",
   "name": "python",
   "nbconvert_exporter": "python",
   "pygments_lexer": "ipython3",
   "version": "3.8.12"
  },
  "orig_nbformat": 4
 },
 "nbformat": 4,
 "nbformat_minor": 2
}
