{
 "cells": [
  {
   "cell_type": "markdown",
   "metadata": {},
   "source": [
    "# Content and Objective\n",
    "\n",
    "+ Show how frequency response is obtained based on poles and zeros\n",
    "+ User may define poles and zeros \n",
    "+ Amplitude response and phase response will be plotted"
   ]
  },
  {
   "cell_type": "code",
   "execution_count": 31,
   "metadata": {},
   "outputs": [],
   "source": [
    "#importing\n",
    "import numpy as np\n",
    "from scipy import signal as sig\n",
    "\n",
    "import matplotlib.pyplot as plt\n",
    "import ipywidgets as widgets\n"
   ]
  },
  {
   "cell_type": "markdown",
   "metadata": {},
   "source": [
    "# Reminder\n"
   ]
  },
  {
   "cell_type": "markdown",
   "metadata": {},
   "source": [
    "\n",
    "The magnitude of an LTI system is given by:\n",
    "\n",
    "\n",
    "$$\\left|H(\\Omega)\\right|=\\left|H_0\\right|\\frac{\\prod_{\\mu=1}^p |e^{j\\Omega}-z_{0,\\mu}|}{\\prod_{\\nu=1}^q |e^{j\\Omega}-z_{\\infty,\\nu}|}$$\n",
    " \n",
    "\n",
    "+ Numerator is determined as the product of distances between the current frequency point $\\mathrm{e}^{\\mathrm{j}\\Omega}$ and the zeros\n",
    "+ Denominator is determined as the product of distances between the current frequency point $\\mathrm{e}^{\\mathrm{j}\\Omega}$ and the poles\n",
    "\n",
    "Accordingly, the phase is obtained by the formula:\n",
    "\n",
    "$$\\varphi(\\Omega)=\\arg \\left( H_0\\frac{\\prod_{\\mu=1}^p \\left( e^{j\\Omega}-z_{0,\\mu}\\right)}{\\prod_{\\nu=1}^q \\left( e^{j\\Omega}-z_{\\infty,\\nu}\\right)}\\right)$$"
   ]
  },
  {
   "cell_type": "markdown",
   "metadata": {},
   "source": [
    "# Simulation"
   ]
  },
  {
   "cell_type": "code",
   "execution_count": 32,
   "metadata": {},
   "outputs": [],
   "source": [
    "# function for getting the magnitude\n",
    "def magnitude( omega, zeros, poles):\n",
    "    '''\n",
    "    IN: (normalized) frequency at which the magnitude is to be determined\n",
    "        zeros\n",
    "        poles\n",
    "    \n",
    "    OUT: magnitude as numpy array\n",
    "    '''\n",
    "    \n",
    "    # get points on the unit circle where magnitude should be determined\n",
    "    points_on_circle = np.exp( 1j * omega)\n",
    "    \n",
    "    # motivate why you are doing this!\n",
    "    points_on_circle_matrix_nominator = np.tile(points_on_circle, (len(zeros), 1))\n",
    "    points_on_circle_matrix_denominator = np.tile( points_on_circle, (len(poles), 1))\n",
    "\n",
    "    # distances to zeros\n",
    "    differences_nominator = points_on_circle_matrix_nominator - zeros[:,np.newaxis]\n",
    "    \n",
    "    # distances to poles\n",
    "    differences_denominator = points_on_circle_matrix_denominator - poles[:,np.newaxis]\n",
    "\n",
    "    # axis=0 to build product along columns! (each column is one frequency)\n",
    "    nominator = np.prod( differences_nominator, axis=0)\n",
    "    denominator = np.prod( differences_denominator, axis=0)\n",
    "\n",
    "    # return result\n",
    "    return np.abs( nominator / denominator )\n"
   ]
  },
  {
   "cell_type": "code",
   "execution_count": 33,
   "metadata": {},
   "outputs": [],
   "source": [
    "# function for getting the phase\n",
    "def phase(omega, zeros, poles):\n",
    "    '''\n",
    "    IN: frequency at which the magnitude is to be determined\n",
    "        zeros\n",
    "        poles\n",
    "    \n",
    "    OUT: phase as numpy array\n",
    "    '''\n",
    "     \n",
    "    # get points on the unit circle where magnitude should be determined\n",
    "    points_on_circle = np.exp( 1j * omega )\n",
    "\n",
    "    # motivate why you are doing this!\n",
    "    points_on_circle_matrix_nominator = np.tile( points_on_circle, (len(zeros), 1))\n",
    "    points_on_circle_matrix_denominator = np.tile( points_on_circle, (len(poles), 1))\n",
    "\n",
    "    # distances to zeros\n",
    "    differences_nominator = points_on_circle_matrix_nominator - zeros[:, np.newaxis]\n",
    "    \n",
    "    # distances to zeros\n",
    "    differences_denominator = points_on_circle_matrix_denominator - poles[:, np.newaxis]\n",
    "\n",
    "    # axis=0 to build product along columns! (each column is one frequency)\n",
    "    nominator = np.prod( differences_nominator, axis=0)\n",
    "    denominator = np.prod( differences_denominator, axis=0)\n",
    "    \n",
    "    # return result\n",
    "    return np.angle( nominator / denominator )\n"
   ]
  },
  {
   "cell_type": "markdown",
   "metadata": {},
   "source": [
    "### Define Zeros and Poles"
   ]
  },
  {
   "cell_type": "code",
   "execution_count": 34,
   "metadata": {},
   "outputs": [],
   "source": [
    "poles = np.array( [ 0.25 + 0.8j, 0.25 - 0.8j, 0.5])\n",
    "# poles = np.array([ -.9 + .1j, -.9 - .1j, .95 ] )\n",
    "\n",
    "\n",
    "zeros = np.array([0, 0, 0])"
   ]
  },
  {
   "cell_type": "markdown",
   "metadata": {},
   "source": [
    "### Get Frequencies and Full Amplitude Response"
   ]
  },
  {
   "cell_type": "code",
   "execution_count": 35,
   "metadata": {},
   "outputs": [],
   "source": [
    "# define quantization in omega and get sampled omega values\n",
    "delta_omega = 0.01\n",
    "omega_full = np.arange( -np.pi, np.pi, delta_omega )\n",
    "\n",
    "# get magnitude and phase\n",
    "amplitudengang_full = magnitude( omega_full, zeros=zeros, poles=poles )\n",
    "#phasengang_full = phase( omega_full, zeros=zeros, poles=poles )\n"
   ]
  },
  {
   "cell_type": "markdown",
   "metadata": {},
   "source": [
    "# Plotting\n",
    "\n",
    "+ Zeros-poles, amplitude response, and phase response are shown\n",
    "+ User may select the relevant frequency $\\Omega_0$ by a slider\n",
    "+ **NOTE:** frequency is in $[-3.1415, 3.1415]$\n",
    "+ Afterwards, amplitude and phase response are given in $[-\\pi, \\Omega_0]$\n"
   ]
  },
  {
   "cell_type": "code",
   "execution_count": 36,
   "metadata": {},
   "outputs": [],
   "source": [
    "# function for interactive plotting of magnitude and phase\n",
    "def plot_amplitudengang_phasengang( Omega ):\n",
    "    '''\n",
    "    IN: upper frequency up to which magnitude and phase are drawn\n",
    "    \n",
    "    OUT: -\n",
    "    '''\n",
    "    # define quantization and overall omega for full circle\n",
    "    delta_omega = 0.01\n",
    "    omega_full = np.arange(-np.pi, np.pi, delta_omega)\n",
    "    \n",
    "    # define omega for frequencies -pi ... Omega (used for intermediate plotting)\n",
    "    omega = np.arange( -np.pi, Omega, delta_omega)\n",
    "    \n",
    "    # amplitude and frequency resposnse for full circle\n",
    "    amplituden_gang = magnitude( omega=omega, zeros=zeros, poles=poles)\n",
    "    phasen_gang = phase( omega=omega, zeros=zeros, poles=poles)\n",
    "\n",
    "    # init figure and plot unit circle\n",
    "    fig, ax = plt.subplots(1, 3, figsize=(30, 10))\n",
    "    point_on_circle = np.exp(1j*Omega)\n",
    "\n",
    "\n",
    "    # sub-figure 0 shows \n",
    "    #    unit circle\n",
    "    #    current point\n",
    "    #    zeros and poles, \n",
    "    #    distances of current point to zeros and poles\n",
    "    ax[0].plot( np.exp( 1j * omega_full ).real, np.exp( 1j * omega_full ).imag)  \n",
    "    ax[0].scatter( point_on_circle.real, point_on_circle.imag, c='r')\n",
    "      \n",
    "    ax[0].scatter(zeros.real, zeros.imag, marker='o', c='b', s=180)\n",
    "    ax[0].scatter(poles.real, poles.imag, marker='x', c='y', s=180)\n",
    "    \n",
    "    for pole in poles:\n",
    "        ax[0].plot([point_on_circle.real, pole.real], [\n",
    "                   point_on_circle.imag, pole.imag], '-', c='y')\n",
    "    for zero in zeros:\n",
    "        ax[0].plot([point_on_circle.real, zero.real], [\n",
    "            point_on_circle.imag, zero.imag], '-', c='b')\n",
    "\n",
    "    # sub-figure 1 shows amplitude response\n",
    "    # and does a lot of parametrization to obtain a nice figure\n",
    "    ax[1].plot(omega, amplituden_gang)    \n",
    "\n",
    "    ax[1].set_xlim(-np.pi, np.pi)\n",
    "    ax[1].set_ylim(0, amplitudengang_full.max()*1.1)\n",
    "    ax[1].set_title('Amplitudengang')\n",
    "    ax[1].set_xlabel('$\\Omega$')\n",
    "    ax[1].set_ylabel('$|A(\\Omega$)')\n",
    "    \n",
    "    \n",
    "    # sub-figure 2 shows phase response\n",
    "    # and does a lot of parametrization to obtain a nice figure\n",
    "    ax[2].plot(omega, phasen_gang)\n",
    "    \n",
    "    ax[2].set_xlim(-np.pi, np.pi)\n",
    "    ax[2].set_ylim(-np.pi/2*1.1, np.pi/2*1.1)\n",
    "    ax[2].set_title('Phasengang')\n",
    "    ax[2].set_xlabel('$\\Omega$')\n",
    "    ax[2].set_ylabel('phase$(A(\\Omega$))')\n",
    "    \n",
    "    # plt.scatter([1], [1]) so kann man einen weiteren Punkt ergänzen!\n",
    "    plt.show()\n"
   ]
  },
  {
   "cell_type": "code",
   "execution_count": 37,
   "metadata": {},
   "outputs": [
    {
     "data": {
      "application/vnd.jupyter.widget-view+json": {
       "model_id": "e9dc023a4c57475ba48b9d751a19bd0c",
       "version_major": 2,
       "version_minor": 0
      },
      "text/plain": [
       "interactive(children=(FloatSlider(value=-3.141592653589793, continuous_update=False, description='Omega', max=…"
      ]
     },
     "metadata": {},
     "output_type": "display_data"
    }
   ],
   "source": [
    "# define widget and apply \n",
    "w = widgets.interact(plot_amplitudengang_phasengang, Omega=widgets.FloatSlider(\n",
    "    min=-np.pi, max=np.pi, step=0.01, value=-np.pi, continuous_update=False))"
   ]
  },
  {
   "cell_type": "markdown",
   "metadata": {},
   "source": [
    "# Plotting\n",
    "\n",
    "+ Zeros-poles, amplitude response, and phase response are shown\n",
    "+ Frequency $\\Omega_0$ dynamically takes all values in $[-\\pi, \\pi]$\n",
    "+ Amplitude and phase response are provided as animation"
   ]
  },
  {
   "cell_type": "code",
   "execution_count": 38,
   "metadata": {},
   "outputs": [],
   "source": [
    "# function for dynamic animation \n",
    "def plot_amplitudengang_phasengang_animation( degree ):\n",
    "    '''\n",
    "    IN: \n",
    "    \n",
    "    OUT: -\n",
    "    '''\n",
    "    \n",
    "    # map degree to rad\n",
    "    Omega = ( degree - 180 ) / 360 * 2 * np.pi\n",
    "    \n",
    "    # define quantization and overall omega for full circle\n",
    "    delta_omega = 0.01\n",
    "    omega_full = np.arange(-np.pi, np.pi, delta_omega)\n",
    "    \n",
    "    # define omega for frequencies -pi ... Omega (used for intermediate plotting)\n",
    "    omega = np.arange( -np.pi, Omega, delta_omega)\n",
    "\n",
    "    # Use the predefined method to calculate both amplitude and phase:\n",
    "    amplituden_gang = magnitude(omega=omega, zeros=zeros, poles=poles)\n",
    "    phasen_gang = phase(omega=omega, zeros=zeros, poles=poles)\n",
    "\n",
    "    # init figure and define point on circle for current Omega\n",
    "    fig, ax = plt.subplots(1, 3, figsize=(30, 10))\n",
    "\n",
    "    point_on_circle = np.exp(1j * Omega)\n",
    "\n",
    "    \n",
    "    # sub-figure 0 shows \n",
    "    #    unit circle\n",
    "    #    current point\n",
    "    #    zeros and poles, \n",
    "    #    distances of current point to zeros and poles\n",
    "    ax[0].plot( np.exp(1j*omega_full).real, np.exp(1j*omega_full).imag)  \n",
    "    ax[0].scatter( point_on_circle.real, point_on_circle.imag, c='r')\n",
    "    \n",
    "    ax[0].scatter(zeros.real, zeros.imag, marker='o', c='b', s=180)\n",
    "    ax[0].scatter(poles.real, poles.imag, marker='x', c='y', s=180)\n",
    "    \n",
    "    for pole in poles:\n",
    "        ax[0].plot([point_on_circle.real, pole.real], [\n",
    "                   point_on_circle.imag, pole.imag], '-', c='y')\n",
    "    for zero in zeros:\n",
    "        ax[0].plot([point_on_circle.real, zero.real], [\n",
    "            point_on_circle.imag, zero.imag], '-', c='b')\n",
    "        \n",
    "    # sub-figure 1 shows amplitude response\n",
    "    # and does a lot of parametrization to obtain a nice figure   \n",
    "    ax[1].plot(omega, amplituden_gang)\n",
    "\n",
    "    ax[1].set_xlim(-np.pi, np.pi)\n",
    "    ax[1].set_ylim(0, amplitudengang_full.max()*1.1)\n",
    "    ax[1].set_title('Amplitude response')\n",
    "    ax[1].set_xlabel('$\\Omega$')\n",
    "    ax[1].set_ylabel('$|A(\\Omega$)')\n",
    "    \n",
    "    # sub-figure 2 shows phase response\n",
    "    # and does a lot of parametrization to obtain a nice figure   \n",
    "    ax[2].plot(omega, phasen_gang)\n",
    "    \n",
    "    ax[2].set_xlim(-np.pi, np.pi)\n",
    "    ax[2].set_ylim(-np.pi/2*1.1, np.pi/2*1.1)\n",
    "    ax[2].set_title('Phase response')\n",
    "    ax[2].set_xlabel('$\\Omega$')\n",
    "    ax[2].set_ylabel('phase$(A(\\Omega$))')"
   ]
  },
  {
   "cell_type": "code",
   "execution_count": 39,
   "metadata": {},
   "outputs": [
    {
     "data": {
      "application/vnd.jupyter.widget-view+json": {
       "model_id": "ed5e5ac20f394b5aa33f38de48a66d89",
       "version_major": 2,
       "version_minor": 0
      },
      "text/plain": [
       "interactive(children=(Play(value=0, description='degree', max=360), Output()), _dom_classes=('widget-interact'…"
      ]
     },
     "metadata": {},
     "output_type": "display_data"
    },
    {
     "data": {
      "text/plain": [
       "<function __main__.plot_amplitudengang_phasengang_animation(degree)>"
      ]
     },
     "execution_count": 39,
     "metadata": {},
     "output_type": "execute_result"
    }
   ],
   "source": [
    "widgets.interact( plot_amplitudengang_phasengang_animation, degree=widgets.Play(\n",
    "    min=0, max=360) )#, wait=True, animation_duration=600)\n",
    "\n"
   ]
  },
  {
   "cell_type": "code",
   "execution_count": null,
   "metadata": {},
   "outputs": [],
   "source": []
  },
  {
   "cell_type": "code",
   "execution_count": null,
   "metadata": {},
   "outputs": [],
   "source": []
  }
 ],
 "metadata": {
  "kernelspec": {
   "display_name": "Python 3.9.12 ('base')",
   "language": "python",
   "name": "python3"
  },
  "language_info": {
   "codemirror_mode": {
    "name": "ipython",
    "version": 3
   },
   "file_extension": ".py",
   "mimetype": "text/x-python",
   "name": "python",
   "nbconvert_exporter": "python",
   "pygments_lexer": "ipython3",
   "version": "3.9.12"
  },
  "vscode": {
   "interpreter": {
    "hash": "5f9edd3c35c00833966818d36fdef064b480c6a9bc3bc73df3c3357c3edbbb9e"
   }
  }
 },
 "nbformat": 4,
 "nbformat_minor": 2
}
