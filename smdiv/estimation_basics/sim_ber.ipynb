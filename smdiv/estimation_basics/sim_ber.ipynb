{
 "cells": [
  {
   "cell_type": "markdown",
   "metadata": {},
   "source": [
    "# Content and Objective\n",
    "\n",
    "+ Show boxplots and gaussian approximation"
   ]
  },
  {
   "cell_type": "markdown",
   "metadata": {},
   "source": [
    "# Import"
   ]
  },
  {
   "cell_type": "code",
   "execution_count": 5,
   "metadata": {},
   "outputs": [],
   "source": [
    "# importing\n",
    "import numpy as np\n",
    "\n",
    "import matplotlib.pyplot as plt\n",
    "import matplotlib\n",
    "\n",
    "# showing figures inline\n",
    "%matplotlib inline"
   ]
  },
  {
   "cell_type": "code",
   "execution_count": 6,
   "metadata": {},
   "outputs": [],
   "source": [
    "# plotting options \n",
    "font = {'size'   : 20}\n",
    "plt.rc('font', **font)\n",
    "plt.rc('text', usetex=True)\n",
    "\n",
    "matplotlib.rc('figure', figsize=(18, 6) )"
   ]
  },
  {
   "cell_type": "markdown",
   "metadata": {},
   "source": [
    "# Parameters for Simulation"
   ]
  },
  {
   "cell_type": "code",
   "execution_count": 7,
   "metadata": {},
   "outputs": [],
   "source": [
    "# points to be transmitted, modulating the bits to be transmitted\n",
    "constellation_points = [ +1, -1 ]\n",
    "\n",
    "# variance of the noise --> you may play with this parameter if you like to\n",
    "Es_N0_dB = 3\n",
    "\n",
    "Es_N0 = 10**( Es_N0_dB / 10. )\n",
    "\n",
    "sigma2 = 1 / ( 2 * Es_N0 )\n"
   ]
  },
  {
   "cell_type": "code",
   "execution_count": 8,
   "metadata": {},
   "outputs": [],
   "source": [
    "# (independent) simulations to be performed in order to get several realizations for creating boxplots\n",
    "\n",
    "N_trials = int( 1e3 )\n",
    "\n",
    "# number of constellation points transmitted in one trial\n",
    "# NOTE: in order to get statistically reliable values you should have sufficient amount of symbols\n",
    "#       E.g., there should be 100 errrors.\n",
    "#       On the other hand, this requires that you already know (approximately) the error rate to be expected\n",
    "\n",
    "N_bits = int( 1e3 )\n",
    "\n",
    "# array for collecting simulated error rates\n",
    "ber = np.zeros( N_trials )\n",
    "\n",
    "# loop for trials\n",
    "for _n in range( N_trials):\n",
    "    \n",
    "    # sample bits and map to symbols\n",
    "    bits = np.random.randint( 2, size = N_bits )\n",
    "    \n",
    "    s = 1 - 2 * bits\n",
    "    \n",
    "    \n",
    "    # add noise\n",
    "    r = s + np.sqrt( sigma2 ) * np.random.randn( N_bits )\n",
    "    \n",
    "    # make a decision based on the noisy observations\n",
    "    # NOTE: This scheme will be elaborated in NT 1 and later in this lecture\n",
    "    bits_estimated = np.int_( r < 0 )\n",
    "    \n",
    "    \n",
    "    # determine rate (relative amount) of wrong decisions\n",
    "    ber[ _n ] = np.count_nonzero( bits_estimated != bits ) / N_bits\n",
    "    \n"
   ]
  },
  {
   "cell_type": "code",
   "execution_count": 9,
   "metadata": {},
   "outputs": [
    {
     "name": "stdout",
     "output_type": "stream",
     "text": [
      "Empirical expectation of bit error rate: \t0.02306\n",
      "Empirical variance of bit error rate: \t\t2.4566400000000003e-05\n"
     ]
    }
   ],
   "source": [
    "# printing some values\n",
    "print( 'Empirical expectation of bit error rate: \\t{}'.format( np.average( ber ) ) )\n",
    "print( 'Empirical variance of bit error rate: \\t\\t{}'.format( np.var( ber ) ) )"
   ]
  },
  {
   "cell_type": "markdown",
   "metadata": {},
   "source": [
    "# Plotting"
   ]
  },
  {
   "cell_type": "code",
   "execution_count": 10,
   "metadata": {},
   "outputs": [
    {
     "data": {
      "image/png": "[encoded data removed]",
      "text/plain": [
       "<Figure size 1296x432 with 2 Axes>"
      ]
     },
     "metadata": {
      "needs_background": "light"
     },
     "output_type": "display_data"
    }
   ],
   "source": [
    "# plotting\n",
    "plt.figure()\n",
    "\n",
    "plt.subplot(121)\n",
    "plt.boxplot( ber );\n",
    "plt.title('Boxplot')\n",
    "plt.ylim( ( 0.9 * np.min( ber ), 1.1 * np.max( ber ) ) )\n",
    "plt.grid( True )\n",
    "\n",
    "\n",
    "\n",
    "plt.subplot(122)\n",
    "\n",
    "# histograms on x- and y-axis\n",
    "bins = 20\n",
    "\n",
    "ber_hist = np.histogram( ber, bins = bins, density = 1 )\n",
    "width = ( np.max( ber ) - np.min( ber ) ) / bins\n",
    "\n",
    "plt.barh( ber_hist[1][:-1] , ber_hist[0] / np.max( ber_hist[0]) * 20, width, color = '#ff7f0e' )   \n",
    "\n",
    "plt.title('Histogram, {} bins'.format( bins ))\n",
    "plt.grid( True )\n",
    "plt.ylim( ( 0.9 * np.min( ber ), 1.1 * np.max( ber ) ) )\n",
    "\n",
    "\n",
    "plt.savefig('boxplot_histogram.pdf')"
   ]
  },
  {
   "cell_type": "code",
   "execution_count": null,
   "metadata": {},
   "outputs": [],
   "source": []
  }
 ],
 "metadata": {
  "kernelspec": {
   "display_name": "Python 3 (ipykernel)",
   "language": "python",
   "name": "python3"
  },
  "language_info": {
   "codemirror_mode": {
    "name": "ipython",
    "version": 3
   },
   "file_extension": ".py",
   "mimetype": "text/x-python",
   "name": "python",
   "nbconvert_exporter": "python",
   "pygments_lexer": "ipython3",
   "version": "3.10.4"
  }
 },
 "nbformat": 4,
 "nbformat_minor": 4
}
