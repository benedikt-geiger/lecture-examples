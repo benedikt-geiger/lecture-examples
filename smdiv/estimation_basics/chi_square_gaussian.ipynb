{
 "cells": [
  {
   "cell_type": "markdown",
   "metadata": {},
   "source": [
    "# Import"
   ]
  },
  {
   "cell_type": "code",
   "execution_count": 1,
   "metadata": {},
   "outputs": [],
   "source": [
    "# importing\n",
    "import numpy as np\n",
    "import scipy.signal as signal\n",
    "import scipy.stats as stats\n",
    "import scipy as sp\n",
    "\n",
    "import matplotlib.pyplot as plt\n",
    "import matplotlib\n",
    "\n",
    "from matplotlib import animation, rc\n",
    "from matplotlib.animation import PillowWriter # Disable if you don't want to save any GIFs.\n",
    "\n",
    "from ipywidgets import interactive\n",
    "import ipywidgets as widgets\n",
    "\n",
    "# showing figures inline\n",
    "%matplotlib inline"
   ]
  },
  {
   "cell_type": "code",
   "execution_count": 2,
   "metadata": {},
   "outputs": [],
   "source": [
    "# plotting options \n",
    "font = {'size'   : 30}\n",
    "plt.rc('font', **font)\n",
    "plt.rc('text', usetex=True)\n",
    "\n",
    "matplotlib.rc('figure', figsize=(24, 12) )"
   ]
  },
  {
   "cell_type": "markdown",
   "metadata": {},
   "source": [
    "# Here we go"
   ]
  },
  {
   "cell_type": "code",
   "execution_count": 3,
   "metadata": {},
   "outputs": [
    {
     "name": "stdout",
     "output_type": "stream",
     "text": [
      "[-0.33333333 -0.16666667  0.          0.16666667  0.33333333]\n",
      "[2. 0. 1. 2. 1. 4.]\n"
     ]
    }
   ],
   "source": [
    "# define our own \"histogram\"\n",
    "def get_quantization( samples, width,  numb_of_bins ):\n",
    "    '''\n",
    "    determines intervals and hits within the intervals when\n",
    "    being provided with samples, width of region, and number of bins\n",
    "\n",
    "    NOTE: provides (integer) number of hits, not normalized to density \n",
    "    '''\n",
    "\n",
    "    # get number of samples and Delta (in x)\n",
    "    n = len( samples )\n",
    "    Delta = width / numb_of_bins\n",
    "\n",
    "    # first define no. of hits per region\n",
    "    hits_regions = np.zeros( numb_of_bins )\n",
    "    \n",
    "    # get interval points\n",
    "    interval_points = np.arange( 1, numb_of_bins )* Delta - width / 2 \n",
    "\n",
    "    # walk through all samples and assign them to one quant. level\n",
    "    for s in samples:\n",
    "        \n",
    "        # find index for mapping s \n",
    "        try:\n",
    "            index = np.min( np.where( s < interval_points ) )\n",
    "            hits_regions[ index ] += 1\n",
    "        except:\n",
    "            hits_regions[ -1 ] += 1\n",
    "\n",
    "    return interval_points, hits_regions\n",
    "\n",
    "ip, vals = get_quantization( np.random.randn(10), 1, 6)\n",
    "print( ip )\n",
    "print( vals)\n"
   ]
  },
  {
   "cell_type": "code",
   "execution_count": 4,
   "metadata": {},
   "outputs": [],
   "source": [
    "# perform chi square test\n",
    "def do_chi_square( h, interval_points, alpha  ):\n",
    "    '''\n",
    "    determines chi square test\n",
    "    thereby determining theoretical probabiliy of regions provided as arguments\n",
    "\n",
    "    NOTE: expects (integer) number of hits, not normalized to density \n",
    "    '''\n",
    "    \n",
    "    # get number of samples and numb_of_bins\n",
    "    n = np.sum( h )\n",
    "    numb_of_bins = len( interval_points ) + 1\n",
    "    \n",
    "    # init prob. vector and determine theoretical prob.\n",
    "    interval_points_extended = np.hstack( ( -np.inf, interval_points, np.inf ) )\n",
    "\n",
    "    p = np.zeros( len( interval_points_extended ) - 1 )\n",
    "    for _n in range( numb_of_bins ):\n",
    "        p[ _n ] = stats.norm.cdf( interval_points_extended[ _n + 1 ] ) - stats.norm.cdf( interval_points_extended[ _n ] )\n",
    "\n",
    "        \n",
    "    # get empirical test value for chi square test\n",
    "    t = np.sum( ( h - n * p )**2 / ( n *p  ) )\n",
    "\n",
    "    # get theoretical test value for chi square test\n",
    "    chi2 = stats.chi2.ppf( 1 - alpha, numb_of_bins - 1 )\n",
    "\n",
    "    \n",
    "    return t, chi2\n",
    "\n",
    "\n",
    "# ip, vals = get_quantization( np.random.randn(100), 10, 20 )\n",
    "# t, chi2 = do_chi_square( vals, ip, .1 )"
   ]
  },
  {
   "cell_type": "code",
   "execution_count": 5,
   "metadata": {},
   "outputs": [
    {
     "data": {
      "application/vnd.jupyter.widget-view+json": {
       "model_id": "9da722b8d6d846bfb5dc3917afe50fa6",
       "version_major": 2,
       "version_minor": 0
      },
      "text/plain": [
       "interactive(children=(IntSlider(value=500, continuous_update=False, description='observation length n', layout…"
      ]
     },
     "metadata": {},
     "output_type": "display_data"
    }
   ],
   "source": [
    "# interactive plotting function\n",
    "def show_test_result( n, alpha, width, numb_of_bins ):\n",
    "    '''\n",
    "    showing result of chi square test for samples generated according to given variance\n",
    "\n",
    "    test is performed by binning x axis as numb_of_bins bins in [a,b]\n",
    "    --> show effects of \"not being gaussian\" for \"stupid\" partition of real axis\n",
    "    '''\n",
    "\n",
    "\n",
    "    # get samples\n",
    "    samples = np.random.randn( n  )\n",
    "\n",
    "\n",
    "    # get our own quant. and map to histogram\n",
    "    ip, hits = get_quantization( samples, width, numb_of_bins )\n",
    "\n",
    "    hits = np.ones( numb_of_bins )\n",
    "\n",
    "    # map interval points to their midpoints to match length of hist\n",
    "    if len( ip ) ==3:\n",
    "            midpoints = np.array( [ ip[ 1 ] - width / 2, ip[ 1 ] + width / 2 ] ) \n",
    "\n",
    "    elif len( ip ) > 3:\n",
    "            dist = ip[ 2 ] - ip[ 1 ]\n",
    "            \n",
    "            midpoints = ip - dist / 2\n",
    "            midpoints = np.hstack( ( midpoints, midpoints[0] ) )\n",
    "\n",
    "    # hist shoulkd be normalized to density=True\n",
    "    my_hist = hits / n * numb_of_bins / width\n",
    "\n",
    "\n",
    "\n",
    "    # now do chi square test\n",
    "    t, chi2 = do_chi_square( hits, ip, alpha )\n",
    "    print( 'Test statistic t:\\t{}'.format( t ) )\n",
    "    print( 'Chi-square value:\\t{}'.format( chi2 ) )\n",
    "\n",
    "    test_result = 'H_0 declined' if t > chi2 else 'H_0 not declined'\n",
    "\n",
    "    print( 'Niveau: \\t\\t{}'.format( alpha) ) \n",
    "    print( 'Test result: \\t\\t' + test_result + ' with error prob. {}'.format( alpha) )\n",
    "\n",
    "\n",
    "\n",
    "    # figure for histogram and theory\n",
    "    plt.figure( figsize=( 20, 8 ) )\n",
    "    font = {'size'   : 14}\n",
    "    plt.rc('font', **font)\n",
    "    plt.rc('text', usetex=matplotlib.checkdep_usetex(True))\n",
    "\n",
    "\n",
    "    # plot histogram of numpy\n",
    "    plt.hist( samples, bins = 50, density=True, label='histogram of numpy')\n",
    "\n",
    "    # plot theoretical gaussian\n",
    "    x = np.linspace( -10, 10, 1000 )\n",
    "    plt.plot( x, 1/np.sqrt(2*np.pi) * np.exp( - x**2 / 2 ), color='red', label='theory' )\n",
    "\n",
    "    # plot \"our\" histogram\n",
    "    plt.bar( midpoints, my_hist, color='green', width=width/numb_of_bins )\n",
    "\n",
    "\n",
    "    # some nice little add-ons\n",
    "    plt.xlabel(r'$k$',fontsize=14)\n",
    "    plt.ylabel(r'$H_n(k)$',fontsize=14)\n",
    "    plt.legend()\n",
    "    plt.grid( True )\n",
    "\n",
    "\n",
    "interactive_update = interactive( \n",
    "    show_test_result, \n",
    "    n = widgets.IntSlider(\n",
    "            min = 10, max = 10000, step = 1, value = 500, \n",
    "            continuous_update = False, \n",
    "            description = 'observation length n', \n",
    "            style={'description_width': 'initial'}, \n",
    "            layout=widgets.Layout(width='50%'),\n",
    "            align_items='center',\n",
    "            ),\n",
    "    alpha = widgets.FloatSlider(\n",
    "            min = 0.0, max = 0.5, step = 0.01, value = 0.1, \n",
    "            continuous_update = False, \n",
    "            description = 'alpha', \n",
    "            style={'description_width': 'initial'}, \n",
    "            layout=widgets.Layout(width='50%'),\n",
    "            align_items='center',\n",
    "            ),\n",
    "    width = widgets.FloatSlider(\n",
    "            min = 0.0, max = 10, step = 0.1, value = 1.0, \n",
    "            continuous_update = False, \n",
    "            description = 'quantization width for test', \n",
    "            style={'description_width': 'initial'}, \n",
    "            layout=widgets.Layout(width='50%'),\n",
    "            align_items='center',\n",
    "            ),\n",
    "    numb_of_bins = widgets.IntSlider(\n",
    "            min = 10, max = 100, step = 1, value = 1, \n",
    "            continuous_update = False, \n",
    "            description = 'no. bins for test', \n",
    "            style={'description_width': 'initial'}, \n",
    "            layout=widgets.Layout(width='50%'),\n",
    "            align_items='center',\n",
    "            )\n",
    "    )\n",
    "\n",
    "\n",
    "output = interactive_update.children[-1]\n",
    "output.layout.height = '500px'\n",
    "interactive_update"
   ]
  },
  {
   "cell_type": "markdown",
   "metadata": {},
   "source": [
    "# Now there should be a sequence of multiple samplings showing that the error rate of the test is actually equal to alpha"
   ]
  },
  {
   "cell_type": "code",
   "execution_count": null,
   "metadata": {},
   "outputs": [],
   "source": []
  }
 ],
 "metadata": {
  "kernelspec": {
   "display_name": "Python 3 (Spyder)",
   "language": "python3",
   "name": "python3"
  },
  "language_info": {
   "codemirror_mode": {
    "name": "ipython",
    "version": 3
   },
   "file_extension": ".py",
   "mimetype": "text/x-python",
   "name": "python",
   "nbconvert_exporter": "python",
   "pygments_lexer": "ipython3",
   "version": "3.8.12"
  }
 },
 "nbformat": 4,
 "nbformat_minor": 4
}
