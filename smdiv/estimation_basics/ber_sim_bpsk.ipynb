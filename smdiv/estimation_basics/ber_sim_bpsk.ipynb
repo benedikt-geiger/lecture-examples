{
 "cells": [
  {
   "cell_type": "markdown",
   "metadata": {},
   "source": [
    "# Content and Objective\n",
    "\n",
    "+ Show BER of an uncoded BPSK modulated signal over an AWGN channel\n",
    "+ BER is calculated using a Monte-Carlo simulation and compared to theoretic performance\n",
    "+ Confidence interval of the Monte-Carlo simulation is included based on statistical properties of the binomial distribution. \n",
    "+ Optimal decision threshold (based on MAP) derived for non-uniform distributed bits at the bottom of the notebook."
   ]
  },
  {
   "cell_type": "markdown",
   "metadata": {},
   "source": [
    "# Import"
   ]
  },
  {
   "cell_type": "code",
   "execution_count": 16,
   "metadata": {},
   "outputs": [],
   "source": [
    "import numpy as np\n",
    "from scipy import special\n",
    "import matplotlib.pyplot as plt\n",
    "import ipywidgets as widgets\n"
   ]
  },
  {
   "cell_type": "markdown",
   "metadata": {},
   "source": [
    "# Some basic definitions: BPSK modulation, AWGN channel, Q-Funktion\n",
    "+ SNR for AWGN: $\\frac{E_s}{N_0}=\\frac{E_s}{2\\cdot \\sigma_n^2}=\\frac{1}{\\sigma_n^2}$ for $E_s=1$\n",
    "+  Q-Funktion: $Q(x)=\\int_x^{\\infty}\\frac{1}{\\sqrt{2\\pi}}\\exp\\left(-\\frac{y^2}{2}\\right) dy$\n",
    "\n"
   ]
  },
  {
   "cell_type": "markdown",
   "metadata": {},
   "source": [
    "# Functions"
   ]
  },
  {
   "cell_type": "code",
   "execution_count": 17,
   "metadata": {},
   "outputs": [],
   "source": [
    "#BPSK mod\n",
    "def bpsk_mod(x):\n",
    "    return np.where(x == 0, 1, -1)\n",
    "\n",
    "#AWGN channel\n",
    "def awgn(x, sigma):\n",
    "    noise = sigma*np.random.randn(len(x))\n",
    "    return x+noise\n",
    "\n",
    "#Q function\n",
    "def qfunc(x):\n",
    "    return 0.5-0.5*special.erf(x/np.sqrt(2))\n",
    "\n",
    "#Optimal curve (See MAP derivation at the end of the notebook)\n",
    "def threshold_calc(p_0, sigma):\n",
    "    return np.log((1-p_0)/p_0)*(sigma**2)/2\n",
    "\n",
    "vec_treshold_calc=np.vectorize(threshold_calc)\n",
    "\n",
    "vec_qfunc=np.vectorize(qfunc)\n"
   ]
  },
  {
   "cell_type": "markdown",
   "metadata": {},
   "source": [
    "# Choose here probability of 0s and 1s:"
   ]
  },
  {
   "cell_type": "code",
   "execution_count": 18,
   "metadata": {},
   "outputs": [],
   "source": [
    "p_1 = 0.7  #Adapt in 0.01 steps: Probability for binary one --> After BPSK modulation it becomes a +1 \n",
    "p_0 = 1-p_1\n"
   ]
  },
  {
   "cell_type": "markdown",
   "metadata": {},
   "source": [
    "# Simulation + Plotting function"
   ]
  },
  {
   "cell_type": "code",
   "execution_count": 19,
   "metadata": {},
   "outputs": [],
   "source": [
    "def plot_hist_bpsk(es_no_dB, N_syms_log, equally_likely_bits):\n",
    "    \n",
    "    #dB into linear\n",
    "    es_no = 10**(es_no_dB/10)\n",
    "    sigma = np.sqrt(1/(2*es_no))  \n",
    "\n",
    "    #calculate decision treshold based on MAP\n",
    "    current_threshold=threshold_calc(p_0,sigma=sigma)\n",
    "\n",
    "    #Chosen number of simulations\n",
    "    num_sim = int(10**(N_syms_log))\n",
    "\n",
    "    # Generate random Data according to given probabilities\n",
    "    binary_data = np.random.randint(low=0, high=1000, size=num_sim)\n",
    "    binary_data = np.where(binary_data < 1000*p_1, 1, 0)\n",
    "\n",
    "    \n",
    "    \n",
    "\n",
    "    ##Simulated Transmission (Monte-Carlo simulation)\n",
    "\n",
    "    #BPSK modulation\n",
    "    modulated = bpsk_mod(binary_data)\n",
    "\n",
    "    #AWGN Channel\n",
    "    transmitted = awgn(modulated, sigma)\n",
    "\n",
    "    #For colouring seperate data with knowledge of what was transmitted\n",
    "    transmitted_1 = transmitted[binary_data == 0]\n",
    "    transmitted_minus_1 = transmitted[binary_data == 1]\n",
    "\n",
    "    ## Theory:\n",
    "\n",
    "    #Simulated SNR regime\n",
    "    eb_no_range_db = np.linspace(-5, 10, 1000)\n",
    "    eb_no_range = 10**(eb_no_range_db/10)\n",
    "\n",
    "    # ML curve\n",
    "    theoretic_ber_gv = qfunc(np.sqrt(2*eb_no_range))\n",
    "    sigma_range = np.sqrt(1/(2*eb_no_range))\n",
    "\n",
    "    decision_threshold = vec_treshold_calc(p_0, sigma_range) \n",
    "\n",
    "    #MAP\n",
    "    theoretic_ber_non_gv = p_0 * \\\n",
    "        (1-vec_qfunc(((decision_threshold-1)/sigma_range))) + \\\n",
    "        p_1*vec_qfunc((decision_threshold+1)/sigma_range)\n",
    "\n",
    "    \n",
    "    #Plotting and Coloruing\n",
    "    plt.figure(figsize=(20, 7.5))\n",
    "\n",
    "    ax = plt.subplot(1, 4, 1)\n",
    "    ax.set_title('Histogramm of the transmitted 1s and 0s')\n",
    "    N_1, bins_1, patches_1 = plt.hist(transmitted_1,\n",
    "                                      density=True, color='b', bins='auto',label='$f(x|1)$')  # np.arange(-6, 4+bin_width, bin_width\n",
    "    N_minus_1, bins_minus_1, patches_minus_1 = plt.hist(transmitted_minus_1,\n",
    "                                                        density=True, color='g', bins='auto', alpha=0.4,label='$f(x|-1)$')  # np.arange(-4, 6+bin_width, bin_width)\n",
    "    \n",
    "    plt.legend()\n",
    "    plt.xlabel('x')\n",
    "    ax = plt.subplot(1, 4, 2)\n",
    "    plt.hist(transmitted, density=True, color='b', bins='auto',label='$f(x)$')\n",
    "    ax.set_title('Histogramm of all received values combined')\n",
    "    plt.legend()\n",
    "    plt.xlabel('x')\n",
    "    # print(bins_1)\n",
    "    col_treshold = 'r'\n",
    "\n",
    "    # Here trick to color area underneath histograms\n",
    "    bins_1 = bins_1[1:]  \n",
    "    bins_minus_1 = bins_minus_1[1:]  # deletes last element from bins\n",
    "\n",
    "    # Monte Carlos --> Counter errors (Happens if threshold is crossed)\n",
    "    errors = len(np.where(transmitted_1 <= current_threshold)[\n",
    "                 0]) + len(np.where(transmitted_minus_1 >= current_threshold)[0])\n",
    "\n",
    "    # BER= errors/numsim\n",
    "    simulated_ber = float(errors)/num_sim\n",
    "    \n",
    "    ## HOW TO GET THE 2 sigma interval!\n",
    "    # Simulated_ber corresponds to probabilty that error occurs \n",
    "    #--> can be used to calculate variance of a binomial distribution with simulated_ber being probability for one realization\n",
    "    theoretic_var = simulated_ber*(1-simulated_ber)/num_sim\n",
    "\n",
    "    # plot confidence area around estimated point\n",
    "    theoretic_1_sigma_area = np.array(\n",
    "        [simulated_ber+2*np.sqrt(theoretic_var), simulated_ber-2*np.sqrt(theoretic_var)])\n",
    "\n",
    "\n",
    "    ## Now only plooting\n",
    "    for i in range(len(np.where(bins_1 < current_threshold)[0])):\n",
    "        patches_1[i].set_facecolor(col_treshold)\n",
    "\n",
    "    for i in range(len(patches_minus_1)-1, len(patches_minus_1)-1-len(np.where(bins_minus_1 > current_threshold)[0]), -1):\n",
    "        patches_minus_1[i].set_facecolor(col_treshold)\n",
    "\n",
    "    ax = plt.subplot(1, 4, 3)\n",
    "    ax.set_title('Complete theoretic curve')\n",
    "\n",
    "    if(equally_likely_bits == \"Theorie für Gleichverteilung\"):\n",
    "        plt.plot(eb_no_range_db, theoretic_ber_gv)\n",
    "    elif(equally_likely_bits == \"Theorie für nicht gleichverteilt\"):\n",
    "        plt.plot(eb_no_range_db, theoretic_ber_non_gv)\n",
    "    plt.scatter(es_no_dB, simulated_ber, marker='x', color='r')\n",
    "    plt.yscale('log')\n",
    "    plt.xlabel('$E_b/N_0$')\n",
    "    plt.ylabel('BER')\n",
    "    plt.grid()\n",
    "\n",
    "    ax = plt.subplot(1, 4, 4)\n",
    "    ax.set_title('Zoom in on theoretic curve with 2 sigma area')\n",
    "\n",
    "    if(equally_likely_bits == \"Theorie für Gleichverteilung\"):\n",
    "        plt.plot(eb_no_range_db, theoretic_ber_gv)\n",
    "    elif(equally_likely_bits == \"Theorie für nicht gleichverteilt\"):\n",
    "        plt.plot(eb_no_range_db, theoretic_ber_non_gv)\n",
    "\n",
    "    plt.scatter(es_no_dB, simulated_ber, marker='x', color='r')\n",
    "    plt.plot(np.array([es_no_dB, es_no_dB]),\n",
    "             theoretic_1_sigma_area, marker=\"_\", color='g')\n",
    "\n",
    "    # Ändern zu +-3 sigma umgebung\n",
    "    plt.ylim(simulated_ber-3*np.sqrt(theoretic_var), simulated_ber+3*np.sqrt(theoretic_var))\n",
    "    plt.yscale('log')\n",
    "    plt.xlim(es_no_dB-1, es_no_dB+1)\n",
    "    plt.ylabel('BER')\n",
    "    plt.xlabel('$E_b/N_0$')\n",
    "    plt.grid()\n"
   ]
  },
  {
   "cell_type": "markdown",
   "metadata": {},
   "source": [
    "# Now the plotting...\n",
    "+ SNR in dB can be adapted, as well as the number of simulated transmitted bits\n",
    "+ First plot shows normalized histograms of the conditional pdfs of the received values given which bit was sent\n",
    "  + The red colored areas are received values that were pushed beyond the decision threshold by the AWGN channel\n",
    "+ Second plot shows the histogram of all received values\n",
    "  + In case of non-uniform distributed bits the second plot illustrates that one transmitted value is more likely. Then, the adaptive threshold is beneficial.\n",
    "+ Third plot shows the theoretic performance.\n",
    "  + Simulated BER from Monte-Carlo simulation for current SNR added as red dot.\n",
    "  + Theoretic curve can be chosen between MAP (=Theorie für nicht gleichverteilt) an ML (=Theorie für gleichverteilt).\n",
    "+  In most communication system bits are uniform distributed and thus ML and MAP perform the same."
   ]
  },
  {
   "cell_type": "code",
   "execution_count": 20,
   "metadata": {},
   "outputs": [
    {
     "data": {
      "application/vnd.jupyter.widget-view+json": {
       "model_id": "acdbf7c261744649901dd9936adadbbc",
       "version_major": 2,
       "version_minor": 0
      },
      "text/plain": [
       "interactive(children=(FloatSlider(value=0.0, description='es_no_dB', max=10.0, min=-5.0), FloatSlider(value=5.…"
      ]
     },
     "metadata": {},
     "output_type": "display_data"
    }
   ],
   "source": [
    "w = widgets.interact(plot_hist_bpsk,\n",
    "                     es_no_dB=widgets.FloatSlider(min=-5, max=10),\n",
    "                     N_syms_log=widgets.FloatSlider(min=2, max=7, value=5),\n",
    "                     equally_likely_bits=widgets.RadioButtons(placeholder='Choose', options=[\"Theorie für Gleichverteilung\", \"Theorie für nicht gleichverteilt\"]))\n"
   ]
  },
  {
   "cell_type": "markdown",
   "metadata": {},
   "source": [
    "## Derivation theoretic BER for non-uniform distributed bits: \n",
    "* BPSK modulation: $s_i=(-1)^{c_i}$\n",
    "    + $P(s_i=1)=P(c_i=0)=:p_0$ und $P(s_i=-1)=P(c_i=1)=:p_1$\n",
    "* AWGN channel: $z_i=s_i+n_i$ mit $n_i\\sim \\mathcal{N}(0,\\sigma)$ \n",
    "* Decision threshold $\\gamma_0$\n",
    "\n",
    "\\begin{align*}P(Fehler)&=P(s_i=1)\\cdot P(z<\\gamma_0|s_i=1) + P(s_i=-1)\\cdot P(z>\\gamma_0|s_i=-1)\\\\\n",
    "&= p_0 \\cdot (1-P(z\\geq \\gamma_0|s_i=1)) + p_1 \\cdot (P(z>\\gamma_0|s_i=1)\\\\\n",
    "&= p_0 \\cdot \\left(1- \\int_{\\gamma_0}^{\\infty}\\frac{1}{\\sqrt{2\\pi\\sigma^2}})\\exp\\left(-\\frac{(z-1)^2}{2\\sigma^2}\\right) \\right ) + p_1 \\cdot \\int_{\\gamma_0}^{\\infty}\\frac{1}{\\sqrt{2\\pi\\sigma^2}})\\exp\\left(-\\frac{(z+1)^2}{2\\sigma^2}\\right)\n",
    "\\end{align*}\n",
    "\n",
    "* Substituting $r=\\frac{\\gamma_0-1}{\\sigma}$ and $y=\\frac{\\gamma_0+1}{\\sigma}$ the integrals can be transformed, such that the definition of the Q-Function can be used:\n",
    "\\begin{align*}\n",
    "P(Fehler)&= p_0\\cdot \\left(1-\\int_{\\frac{\\gamma_0-1}{\\sigma}}^\\infty \\frac{1}{\\sqrt{2\\pi}}\\exp\\left(-\\frac{r^2}{2}\\right) dr \\right) + p_1\\cdot \\int_{\\frac{\\gamma_0+1}{\\sigma}}^\\infty \\frac{1}{\\sqrt{2\\pi}}\\exp\\left(-\\frac{y^2}{2}\\right) dy \\\\\n",
    "&= p_0 \\cdot (1-Q\\left(\\frac{\\gamma_0-1}{\\sigma}\\right)+ p_1 \\cdot Q\\left(\\frac{\\gamma_0+1}{\\sigma}\\right)\n",
    "\\end{align*}"
   ]
  }
 ],
 "metadata": {
  "kernelspec": {
   "display_name": "Python 3.8.13 ('base')",
   "language": "python",
   "name": "python3"
  },
  "language_info": {
   "codemirror_mode": {
    "name": "ipython",
    "version": 3
   },
   "file_extension": ".py",
   "mimetype": "text/x-python",
   "name": "python",
   "nbconvert_exporter": "python",
   "pygments_lexer": "ipython3",
   "version": "3.10.6"
  },
  "orig_nbformat": 4,
  "vscode": {
   "interpreter": {
    "hash": "a86f32e422e65683d39ec923744cce2dfa7f93e41bde8193b530c1f4001aace6"
   }
  }
 },
 "nbformat": 4,
 "nbformat_minor": 2
}
